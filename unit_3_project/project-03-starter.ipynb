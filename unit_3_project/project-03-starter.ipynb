{
 "cells": [
  {
   "cell_type": "markdown",
   "metadata": {},
   "source": [
    "<img src=\"http://imgur.com/1ZcRyrc.png\" style=\"float: left; margin: 15px; height: 80px\">\n",
    "\n",
    "# Project 3\n",
    "\n",
    "### Regression and Classification with the Ames Housing Data\n",
    "\n",
    "---\n",
    "\n",
    "You have just joined a new \"full stack\" real estate company in Ames, Iowa. The strategy of the firm is two-fold:\n",
    "- Own the entire process from the purchase of the land all the way to sale of the house, and anything in between.\n",
    "- Use statistical analysis to optimize investment and maximize return.\n",
    "\n",
    "The company is still small, and though investment is substantial the short-term goals of the company are more oriented towards purchasing existing houses and flipping them as opposed to constructing entirely new houses. That being said, the company has access to a large construction workforce operating at rock-bottom prices.\n",
    "\n",
    "This project uses the [Ames housing data recently made available on kaggle](https://www.kaggle.com/c/house-prices-advanced-regression-techniques)."
   ]
  },
  {
   "cell_type": "code",
   "execution_count": 62,
   "metadata": {
    "collapsed": true
   },
   "outputs": [],
   "source": [
    "# Import packages\n",
    "import numpy as np\n",
    "import scipy.stats as stats\n",
    "import seaborn as sns\n",
    "import matplotlib.pyplot as plt\n",
    "import pandas as pd\n",
    "from __future__ import division\n",
    "\n",
    "sns.set_style('whitegrid')\n",
    "\n",
    "%config InlineBackend.figure_format = 'retina'\n",
    "%matplotlib inline"
   ]
  },
  {
   "cell_type": "markdown",
   "metadata": {},
   "source": [
    "<img src=\"http://imgur.com/l5NasQj.png\" style=\"float: left; margin: 25px 15px 0px 0px; height: 25px\">\n",
    "\n",
    "## 1. Estimating the value of homes from fixed characteristics.\n",
    "\n",
    "---\n",
    "\n",
    "Your superiors have outlined this year's strategy for the company:\n",
    "1. Develop an algorithm to reliably estimate the value of residential houses based on *fixed* characteristics.\n",
    "2. Identify characteristics of houses that the company can cost-effectively change/renovate with their construction team.\n",
    "3. Evaluate the mean dollar value of different renovations.\n",
    "\n",
    "Then we can use that to buy houses that are likely to sell for more than the cost of the purchase plus renovations.\n",
    "\n",
    "Your first job is to tackle #1. You have a dataset of housing sale data with a huge amount of features identifying different aspects of the house. The full description of the data features can be found in a separate file:\n",
    "\n",
    "    housing.csv\n",
    "    data_description.txt\n",
    "    \n",
    "You need to build a reliable estimator for the price of the house given characteristics of the house that cannot be renovated. Some examples include:\n",
    "- The neighborhood\n",
    "- Square feet\n",
    "- Bedrooms, bathrooms\n",
    "- Basement and garage space\n",
    "\n",
    "and many more. \n",
    "\n",
    "Some examples of things that **ARE renovate-able:**\n",
    "- Roof and exterior features\n",
    "- \"Quality\" metrics, such as kitchen quality\n",
    "- \"Condition\" metrics, such as condition of garage\n",
    "- Heating and electrical components\n",
    "\n",
    "and generally anything you deem can be modified without having to undergo major construction on the house.\n",
    "\n",
    "---\n",
    "\n",
    "**Your goals:**\n",
    "1. Perform any cleaning, feature engineering, and EDA you deem necessary.\n",
    "- Be sure to remove any houses that are not residential from the dataset.\n",
    "- Identify **fixed** features that can predict price.\n",
    "- Train a model on pre-2010 data and evaluate its performance on the 2010 houses.\n",
    "- Characterize your model. How well does it perform? What are the best estimates of price?\n",
    "\n",
    "> **Note:** The EDA and feature engineering component to this project is not trivial! Be sure to always think critically and creatively. Justify your actions! Use the data description file!"
   ]
  },
  {
   "cell_type": "markdown",
   "metadata": {},
   "source": [
    "# Initial Exploration of Data"
   ]
  },
  {
   "cell_type": "code",
   "execution_count": 63,
   "metadata": {
    "scrolled": true
   },
   "outputs": [
    {
     "data": {
      "text/html": [
       "<div>\n",
       "<style>\n",
       "    .dataframe thead tr:only-child th {\n",
       "        text-align: right;\n",
       "    }\n",
       "\n",
       "    .dataframe thead th {\n",
       "        text-align: left;\n",
       "    }\n",
       "\n",
       "    .dataframe tbody tr th {\n",
       "        vertical-align: top;\n",
       "    }\n",
       "</style>\n",
       "<table border=\"1\" class=\"dataframe\">\n",
       "  <thead>\n",
       "    <tr style=\"text-align: right;\">\n",
       "      <th></th>\n",
       "      <th>Id</th>\n",
       "      <th>MSSubClass</th>\n",
       "      <th>MSZoning</th>\n",
       "      <th>LotFrontage</th>\n",
       "      <th>LotArea</th>\n",
       "      <th>Street</th>\n",
       "      <th>Alley</th>\n",
       "      <th>LotShape</th>\n",
       "      <th>LandContour</th>\n",
       "      <th>Utilities</th>\n",
       "      <th>...</th>\n",
       "      <th>PoolArea</th>\n",
       "      <th>PoolQC</th>\n",
       "      <th>Fence</th>\n",
       "      <th>MiscFeature</th>\n",
       "      <th>MiscVal</th>\n",
       "      <th>MoSold</th>\n",
       "      <th>YrSold</th>\n",
       "      <th>SaleType</th>\n",
       "      <th>SaleCondition</th>\n",
       "      <th>SalePrice</th>\n",
       "    </tr>\n",
       "  </thead>\n",
       "  <tbody>\n",
       "    <tr>\n",
       "      <th>0</th>\n",
       "      <td>1</td>\n",
       "      <td>60</td>\n",
       "      <td>RL</td>\n",
       "      <td>65.0</td>\n",
       "      <td>8450</td>\n",
       "      <td>Pave</td>\n",
       "      <td>NaN</td>\n",
       "      <td>Reg</td>\n",
       "      <td>Lvl</td>\n",
       "      <td>AllPub</td>\n",
       "      <td>...</td>\n",
       "      <td>0</td>\n",
       "      <td>NaN</td>\n",
       "      <td>NaN</td>\n",
       "      <td>NaN</td>\n",
       "      <td>0</td>\n",
       "      <td>2</td>\n",
       "      <td>2008</td>\n",
       "      <td>WD</td>\n",
       "      <td>Normal</td>\n",
       "      <td>208500</td>\n",
       "    </tr>\n",
       "    <tr>\n",
       "      <th>1</th>\n",
       "      <td>2</td>\n",
       "      <td>20</td>\n",
       "      <td>RL</td>\n",
       "      <td>80.0</td>\n",
       "      <td>9600</td>\n",
       "      <td>Pave</td>\n",
       "      <td>NaN</td>\n",
       "      <td>Reg</td>\n",
       "      <td>Lvl</td>\n",
       "      <td>AllPub</td>\n",
       "      <td>...</td>\n",
       "      <td>0</td>\n",
       "      <td>NaN</td>\n",
       "      <td>NaN</td>\n",
       "      <td>NaN</td>\n",
       "      <td>0</td>\n",
       "      <td>5</td>\n",
       "      <td>2007</td>\n",
       "      <td>WD</td>\n",
       "      <td>Normal</td>\n",
       "      <td>181500</td>\n",
       "    </tr>\n",
       "    <tr>\n",
       "      <th>2</th>\n",
       "      <td>3</td>\n",
       "      <td>60</td>\n",
       "      <td>RL</td>\n",
       "      <td>68.0</td>\n",
       "      <td>11250</td>\n",
       "      <td>Pave</td>\n",
       "      <td>NaN</td>\n",
       "      <td>IR1</td>\n",
       "      <td>Lvl</td>\n",
       "      <td>AllPub</td>\n",
       "      <td>...</td>\n",
       "      <td>0</td>\n",
       "      <td>NaN</td>\n",
       "      <td>NaN</td>\n",
       "      <td>NaN</td>\n",
       "      <td>0</td>\n",
       "      <td>9</td>\n",
       "      <td>2008</td>\n",
       "      <td>WD</td>\n",
       "      <td>Normal</td>\n",
       "      <td>223500</td>\n",
       "    </tr>\n",
       "    <tr>\n",
       "      <th>3</th>\n",
       "      <td>4</td>\n",
       "      <td>70</td>\n",
       "      <td>RL</td>\n",
       "      <td>60.0</td>\n",
       "      <td>9550</td>\n",
       "      <td>Pave</td>\n",
       "      <td>NaN</td>\n",
       "      <td>IR1</td>\n",
       "      <td>Lvl</td>\n",
       "      <td>AllPub</td>\n",
       "      <td>...</td>\n",
       "      <td>0</td>\n",
       "      <td>NaN</td>\n",
       "      <td>NaN</td>\n",
       "      <td>NaN</td>\n",
       "      <td>0</td>\n",
       "      <td>2</td>\n",
       "      <td>2006</td>\n",
       "      <td>WD</td>\n",
       "      <td>Abnorml</td>\n",
       "      <td>140000</td>\n",
       "    </tr>\n",
       "    <tr>\n",
       "      <th>4</th>\n",
       "      <td>5</td>\n",
       "      <td>60</td>\n",
       "      <td>RL</td>\n",
       "      <td>84.0</td>\n",
       "      <td>14260</td>\n",
       "      <td>Pave</td>\n",
       "      <td>NaN</td>\n",
       "      <td>IR1</td>\n",
       "      <td>Lvl</td>\n",
       "      <td>AllPub</td>\n",
       "      <td>...</td>\n",
       "      <td>0</td>\n",
       "      <td>NaN</td>\n",
       "      <td>NaN</td>\n",
       "      <td>NaN</td>\n",
       "      <td>0</td>\n",
       "      <td>12</td>\n",
       "      <td>2008</td>\n",
       "      <td>WD</td>\n",
       "      <td>Normal</td>\n",
       "      <td>250000</td>\n",
       "    </tr>\n",
       "  </tbody>\n",
       "</table>\n",
       "<p>5 rows × 81 columns</p>\n",
       "</div>"
      ],
      "text/plain": [
       "   Id  MSSubClass MSZoning  LotFrontage  LotArea Street Alley LotShape  \\\n",
       "0   1          60       RL         65.0     8450   Pave   NaN      Reg   \n",
       "1   2          20       RL         80.0     9600   Pave   NaN      Reg   \n",
       "2   3          60       RL         68.0    11250   Pave   NaN      IR1   \n",
       "3   4          70       RL         60.0     9550   Pave   NaN      IR1   \n",
       "4   5          60       RL         84.0    14260   Pave   NaN      IR1   \n",
       "\n",
       "  LandContour Utilities    ...     PoolArea PoolQC Fence MiscFeature MiscVal  \\\n",
       "0         Lvl    AllPub    ...            0    NaN   NaN         NaN       0   \n",
       "1         Lvl    AllPub    ...            0    NaN   NaN         NaN       0   \n",
       "2         Lvl    AllPub    ...            0    NaN   NaN         NaN       0   \n",
       "3         Lvl    AllPub    ...            0    NaN   NaN         NaN       0   \n",
       "4         Lvl    AllPub    ...            0    NaN   NaN         NaN       0   \n",
       "\n",
       "  MoSold YrSold  SaleType  SaleCondition  SalePrice  \n",
       "0      2   2008        WD         Normal     208500  \n",
       "1      5   2007        WD         Normal     181500  \n",
       "2      9   2008        WD         Normal     223500  \n",
       "3      2   2006        WD        Abnorml     140000  \n",
       "4     12   2008        WD         Normal     250000  \n",
       "\n",
       "[5 rows x 81 columns]"
      ]
     },
     "execution_count": 63,
     "metadata": {},
     "output_type": "execute_result"
    }
   ],
   "source": [
    "# Load the data\n",
    "house = pd.read_csv('./housing.csv')\n",
    "\n",
    "# Print head of house dataframe\n",
    "house.head()"
   ]
  },
  {
   "cell_type": "code",
   "execution_count": 16,
   "metadata": {},
   "outputs": [
    {
     "data": {
      "text/plain": [
       "<matplotlib.axes._subplots.AxesSubplot at 0x11d736b90>"
      ]
     },
     "execution_count": 16,
     "metadata": {},
     "output_type": "execute_result"
    },
    {
     "data": {
      "image/png": "[encoded data removed]",
      "text/plain": [
       "<matplotlib.figure.Figure at 0x119b02290>"
      ]
     },
     "metadata": {
      "image/png": {
       "height": 465,
       "width": 852
      }
     },
     "output_type": "display_data"
    }
   ],
   "source": [
    "plt.figure(figsize=(15,8))\n",
    "\n",
    "corr = house.corr(method='spearman')\n",
    "\n",
    "sns.heatmap(corr.iloc[:,-1:], annot=True)\n",
    "\n",
    "#sns.heatmap(house.corr(method='spearman'), annot=True)"
   ]
  },
  {
   "cell_type": "markdown",
   "metadata": {},
   "source": [
    "## Relationships\n",
    "Strong positive correlation:\n",
    "* OverallQual\n",
    "* YearBuilt\n",
    "* YearRemodAdd\n",
    "* TotalBsmtSF\n",
    "* 1stFlrSF\n",
    "* GrLivArea\n",
    "* FullBath\n",
    "* TotRmsAbvGrd\n",
    "* Fireplaces\n",
    "* GarageYrBlt\n",
    "* GarageCars\n",
    "* GarageArea\n",
    "\n",
    "Positive correlation:\n",
    "* LotFrontage\n",
    "* LotArea\n",
    "* MasVnrArea\n",
    "* BsmtFinSF1\n",
    "* WoodDeckSF\n",
    "* OpenPorchSF\n",
    "\n",
    "We will take note of these for when we start modelling later"
   ]
  },
  {
   "cell_type": "code",
   "execution_count": 17,
   "metadata": {
    "scrolled": false
   },
   "outputs": [
    {
     "data": {
      "text/html": [
       "<div>\n",
       "<style>\n",
       "    .dataframe thead tr:only-child th {\n",
       "        text-align: right;\n",
       "    }\n",
       "\n",
       "    .dataframe thead th {\n",
       "        text-align: left;\n",
       "    }\n",
       "\n",
       "    .dataframe tbody tr th {\n",
       "        vertical-align: top;\n",
       "    }\n",
       "</style>\n",
       "<table border=\"1\" class=\"dataframe\">\n",
       "  <thead>\n",
       "    <tr style=\"text-align: right;\">\n",
       "      <th></th>\n",
       "      <th>Id</th>\n",
       "      <th>MSSubClass</th>\n",
       "      <th>MSZoning</th>\n",
       "      <th>LotFrontage</th>\n",
       "      <th>LotArea</th>\n",
       "      <th>Street</th>\n",
       "      <th>Alley</th>\n",
       "      <th>LotShape</th>\n",
       "      <th>LandContour</th>\n",
       "      <th>Utilities</th>\n",
       "      <th>...</th>\n",
       "      <th>PoolArea</th>\n",
       "      <th>PoolQC</th>\n",
       "      <th>Fence</th>\n",
       "      <th>MiscFeature</th>\n",
       "      <th>MiscVal</th>\n",
       "      <th>MoSold</th>\n",
       "      <th>YrSold</th>\n",
       "      <th>SaleType</th>\n",
       "      <th>SaleCondition</th>\n",
       "      <th>SalePrice</th>\n",
       "    </tr>\n",
       "  </thead>\n",
       "  <tbody>\n",
       "    <tr>\n",
       "      <th>1455</th>\n",
       "      <td>1456</td>\n",
       "      <td>60</td>\n",
       "      <td>RL</td>\n",
       "      <td>62.0</td>\n",
       "      <td>7917</td>\n",
       "      <td>Pave</td>\n",
       "      <td>NaN</td>\n",
       "      <td>Reg</td>\n",
       "      <td>Lvl</td>\n",
       "      <td>AllPub</td>\n",
       "      <td>...</td>\n",
       "      <td>0</td>\n",
       "      <td>NaN</td>\n",
       "      <td>NaN</td>\n",
       "      <td>NaN</td>\n",
       "      <td>0</td>\n",
       "      <td>8</td>\n",
       "      <td>2007</td>\n",
       "      <td>WD</td>\n",
       "      <td>Normal</td>\n",
       "      <td>175000</td>\n",
       "    </tr>\n",
       "    <tr>\n",
       "      <th>1456</th>\n",
       "      <td>1457</td>\n",
       "      <td>20</td>\n",
       "      <td>RL</td>\n",
       "      <td>85.0</td>\n",
       "      <td>13175</td>\n",
       "      <td>Pave</td>\n",
       "      <td>NaN</td>\n",
       "      <td>Reg</td>\n",
       "      <td>Lvl</td>\n",
       "      <td>AllPub</td>\n",
       "      <td>...</td>\n",
       "      <td>0</td>\n",
       "      <td>NaN</td>\n",
       "      <td>MnPrv</td>\n",
       "      <td>NaN</td>\n",
       "      <td>0</td>\n",
       "      <td>2</td>\n",
       "      <td>2010</td>\n",
       "      <td>WD</td>\n",
       "      <td>Normal</td>\n",
       "      <td>210000</td>\n",
       "    </tr>\n",
       "    <tr>\n",
       "      <th>1457</th>\n",
       "      <td>1458</td>\n",
       "      <td>70</td>\n",
       "      <td>RL</td>\n",
       "      <td>66.0</td>\n",
       "      <td>9042</td>\n",
       "      <td>Pave</td>\n",
       "      <td>NaN</td>\n",
       "      <td>Reg</td>\n",
       "      <td>Lvl</td>\n",
       "      <td>AllPub</td>\n",
       "      <td>...</td>\n",
       "      <td>0</td>\n",
       "      <td>NaN</td>\n",
       "      <td>GdPrv</td>\n",
       "      <td>Shed</td>\n",
       "      <td>2500</td>\n",
       "      <td>5</td>\n",
       "      <td>2010</td>\n",
       "      <td>WD</td>\n",
       "      <td>Normal</td>\n",
       "      <td>266500</td>\n",
       "    </tr>\n",
       "    <tr>\n",
       "      <th>1458</th>\n",
       "      <td>1459</td>\n",
       "      <td>20</td>\n",
       "      <td>RL</td>\n",
       "      <td>68.0</td>\n",
       "      <td>9717</td>\n",
       "      <td>Pave</td>\n",
       "      <td>NaN</td>\n",
       "      <td>Reg</td>\n",
       "      <td>Lvl</td>\n",
       "      <td>AllPub</td>\n",
       "      <td>...</td>\n",
       "      <td>0</td>\n",
       "      <td>NaN</td>\n",
       "      <td>NaN</td>\n",
       "      <td>NaN</td>\n",
       "      <td>0</td>\n",
       "      <td>4</td>\n",
       "      <td>2010</td>\n",
       "      <td>WD</td>\n",
       "      <td>Normal</td>\n",
       "      <td>142125</td>\n",
       "    </tr>\n",
       "    <tr>\n",
       "      <th>1459</th>\n",
       "      <td>1460</td>\n",
       "      <td>20</td>\n",
       "      <td>RL</td>\n",
       "      <td>75.0</td>\n",
       "      <td>9937</td>\n",
       "      <td>Pave</td>\n",
       "      <td>NaN</td>\n",
       "      <td>Reg</td>\n",
       "      <td>Lvl</td>\n",
       "      <td>AllPub</td>\n",
       "      <td>...</td>\n",
       "      <td>0</td>\n",
       "      <td>NaN</td>\n",
       "      <td>NaN</td>\n",
       "      <td>NaN</td>\n",
       "      <td>0</td>\n",
       "      <td>6</td>\n",
       "      <td>2008</td>\n",
       "      <td>WD</td>\n",
       "      <td>Normal</td>\n",
       "      <td>147500</td>\n",
       "    </tr>\n",
       "  </tbody>\n",
       "</table>\n",
       "<p>5 rows × 81 columns</p>\n",
       "</div>"
      ],
      "text/plain": [
       "        Id  MSSubClass MSZoning  LotFrontage  LotArea Street Alley LotShape  \\\n",
       "1455  1456          60       RL         62.0     7917   Pave   NaN      Reg   \n",
       "1456  1457          20       RL         85.0    13175   Pave   NaN      Reg   \n",
       "1457  1458          70       RL         66.0     9042   Pave   NaN      Reg   \n",
       "1458  1459          20       RL         68.0     9717   Pave   NaN      Reg   \n",
       "1459  1460          20       RL         75.0     9937   Pave   NaN      Reg   \n",
       "\n",
       "     LandContour Utilities    ...     PoolArea PoolQC  Fence MiscFeature  \\\n",
       "1455         Lvl    AllPub    ...            0    NaN    NaN         NaN   \n",
       "1456         Lvl    AllPub    ...            0    NaN  MnPrv         NaN   \n",
       "1457         Lvl    AllPub    ...            0    NaN  GdPrv        Shed   \n",
       "1458         Lvl    AllPub    ...            0    NaN    NaN         NaN   \n",
       "1459         Lvl    AllPub    ...            0    NaN    NaN         NaN   \n",
       "\n",
       "     MiscVal MoSold YrSold  SaleType  SaleCondition  SalePrice  \n",
       "1455       0      8   2007        WD         Normal     175000  \n",
       "1456       0      2   2010        WD         Normal     210000  \n",
       "1457    2500      5   2010        WD         Normal     266500  \n",
       "1458       0      4   2010        WD         Normal     142125  \n",
       "1459       0      6   2008        WD         Normal     147500  \n",
       "\n",
       "[5 rows x 81 columns]"
      ]
     },
     "execution_count": 17,
     "metadata": {},
     "output_type": "execute_result"
    }
   ],
   "source": [
    "# Print tail of dataframe\n",
    "house.tail()"
   ]
  },
  {
   "cell_type": "code",
   "execution_count": 18,
   "metadata": {},
   "outputs": [
    {
     "data": {
      "text/plain": [
       "array(['Id', 'MSSubClass', 'MSZoning', 'LotFrontage', 'LotArea', 'Street',\n",
       "       'Alley', 'LotShape', 'LandContour', 'Utilities', 'LotConfig',\n",
       "       'LandSlope', 'Neighborhood', 'Condition1', 'Condition2', 'BldgType',\n",
       "       'HouseStyle', 'OverallQual', 'OverallCond', 'YearBuilt',\n",
       "       'YearRemodAdd', 'RoofStyle', 'RoofMatl', 'Exterior1st',\n",
       "       'Exterior2nd', 'MasVnrType', 'MasVnrArea', 'ExterQual', 'ExterCond',\n",
       "       'Foundation', 'BsmtQual', 'BsmtCond', 'BsmtExposure',\n",
       "       'BsmtFinType1', 'BsmtFinSF1', 'BsmtFinType2', 'BsmtFinSF2',\n",
       "       'BsmtUnfSF', 'TotalBsmtSF', 'Heating', 'HeatingQC', 'CentralAir',\n",
       "       'Electrical', '1stFlrSF', '2ndFlrSF', 'LowQualFinSF', 'GrLivArea',\n",
       "       'BsmtFullBath', 'BsmtHalfBath', 'FullBath', 'HalfBath',\n",
       "       'BedroomAbvGr', 'KitchenAbvGr', 'KitchenQual', 'TotRmsAbvGrd',\n",
       "       'Functional', 'Fireplaces', 'FireplaceQu', 'GarageType',\n",
       "       'GarageYrBlt', 'GarageFinish', 'GarageCars', 'GarageArea',\n",
       "       'GarageQual', 'GarageCond', 'PavedDrive', 'WoodDeckSF',\n",
       "       'OpenPorchSF', 'EnclosedPorch', '3SsnPorch', 'ScreenPorch',\n",
       "       'PoolArea', 'PoolQC', 'Fence', 'MiscFeature', 'MiscVal', 'MoSold',\n",
       "       'YrSold', 'SaleType', 'SaleCondition', 'SalePrice'], dtype=object)"
      ]
     },
     "execution_count": 18,
     "metadata": {},
     "output_type": "execute_result"
    }
   ],
   "source": [
    "# Print column headers of house\n",
    "house.columns.values"
   ]
  },
  {
   "cell_type": "markdown",
   "metadata": {},
   "source": [
    "# Data Cleaning:\n",
    "The data will be cleaned by:\n",
    "* Removing duplicates\n",
    "* Checking for null values\n",
    "* Conversion of compatible columns to non-object types if possible\n",
    "        "
   ]
  },
  {
   "cell_type": "code",
   "execution_count": 65,
   "metadata": {},
   "outputs": [
    {
     "data": {
      "text/plain": [
       "(1460, 81)"
      ]
     },
     "execution_count": 65,
     "metadata": {},
     "output_type": "execute_result"
    }
   ],
   "source": [
    "# Initial check of shape before manipulation\n",
    "house.shape"
   ]
  },
  {
   "cell_type": "code",
   "execution_count": 66,
   "metadata": {},
   "outputs": [
    {
     "data": {
      "text/plain": [
       "(1460, 81)"
      ]
     },
     "execution_count": 66,
     "metadata": {},
     "output_type": "execute_result"
    }
   ],
   "source": [
    "# Drop duplicates found within dataframe\n",
    "house.drop_duplicates()\n",
    "\n",
    "# Check shape of dataframe to determine if changes occurred\n",
    "house.shape"
   ]
  },
  {
   "cell_type": "markdown",
   "metadata": {},
   "source": [
    "# Datatypes\n",
    "* Using house.info() and the text file describing the dataset, we are able to determine which columns are considered categorical, and which ones contain continous data."
   ]
  },
  {
   "cell_type": "code",
   "execution_count": 8,
   "metadata": {
    "scrolled": true
   },
   "outputs": [
    {
     "name": "stdout",
     "output_type": "stream",
     "text": [
      "<class 'pandas.core.frame.DataFrame'>\n",
      "RangeIndex: 1460 entries, 0 to 1459\n",
      "Data columns (total 81 columns):\n",
      "Id               1460 non-null int64\n",
      "MSSubClass       1460 non-null int64\n",
      "MSZoning         1460 non-null object\n",
      "LotFrontage      1201 non-null float64\n",
      "LotArea          1460 non-null int64\n",
      "Street           1460 non-null object\n",
      "Alley            91 non-null object\n",
      "LotShape         1460 non-null object\n",
      "LandContour      1460 non-null object\n",
      "Utilities        1460 non-null object\n",
      "LotConfig        1460 non-null object\n",
      "LandSlope        1460 non-null object\n",
      "Neighborhood     1460 non-null object\n",
      "Condition1       1460 non-null object\n",
      "Condition2       1460 non-null object\n",
      "BldgType         1460 non-null object\n",
      "HouseStyle       1460 non-null object\n",
      "OverallQual      1460 non-null int64\n",
      "OverallCond      1460 non-null int64\n",
      "YearBuilt        1460 non-null int64\n",
      "YearRemodAdd     1460 non-null int64\n",
      "RoofStyle        1460 non-null object\n",
      "RoofMatl         1460 non-null object\n",
      "Exterior1st      1460 non-null object\n",
      "Exterior2nd      1460 non-null object\n",
      "MasVnrType       1452 non-null object\n",
      "MasVnrArea       1452 non-null float64\n",
      "ExterQual        1460 non-null object\n",
      "ExterCond        1460 non-null object\n",
      "Foundation       1460 non-null object\n",
      "BsmtQual         1423 non-null object\n",
      "BsmtCond         1423 non-null object\n",
      "BsmtExposure     1422 non-null object\n",
      "BsmtFinType1     1423 non-null object\n",
      "BsmtFinSF1       1460 non-null int64\n",
      "BsmtFinType2     1422 non-null object\n",
      "BsmtFinSF2       1460 non-null int64\n",
      "BsmtUnfSF        1460 non-null int64\n",
      "TotalBsmtSF      1460 non-null int64\n",
      "Heating          1460 non-null object\n",
      "HeatingQC        1460 non-null object\n",
      "CentralAir       1460 non-null object\n",
      "Electrical       1459 non-null object\n",
      "1stFlrSF         1460 non-null int64\n",
      "2ndFlrSF         1460 non-null int64\n",
      "LowQualFinSF     1460 non-null int64\n",
      "GrLivArea        1460 non-null int64\n",
      "BsmtFullBath     1460 non-null int64\n",
      "BsmtHalfBath     1460 non-null int64\n",
      "FullBath         1460 non-null int64\n",
      "HalfBath         1460 non-null int64\n",
      "BedroomAbvGr     1460 non-null int64\n",
      "KitchenAbvGr     1460 non-null int64\n",
      "KitchenQual      1460 non-null object\n",
      "TotRmsAbvGrd     1460 non-null int64\n",
      "Functional       1460 non-null object\n",
      "Fireplaces       1460 non-null int64\n",
      "FireplaceQu      770 non-null object\n",
      "GarageType       1379 non-null object\n",
      "GarageYrBlt      1379 non-null float64\n",
      "GarageFinish     1379 non-null object\n",
      "GarageCars       1460 non-null int64\n",
      "GarageArea       1460 non-null int64\n",
      "GarageQual       1379 non-null object\n",
      "GarageCond       1379 non-null object\n",
      "PavedDrive       1460 non-null object\n",
      "WoodDeckSF       1460 non-null int64\n",
      "OpenPorchSF      1460 non-null int64\n",
      "EnclosedPorch    1460 non-null int64\n",
      "3SsnPorch        1460 non-null int64\n",
      "ScreenPorch      1460 non-null int64\n",
      "PoolArea         1460 non-null int64\n",
      "PoolQC           7 non-null object\n",
      "Fence            281 non-null object\n",
      "MiscFeature      54 non-null object\n",
      "MiscVal          1460 non-null int64\n",
      "MoSold           1460 non-null int64\n",
      "YrSold           1460 non-null int64\n",
      "SaleType         1460 non-null object\n",
      "SaleCondition    1460 non-null object\n",
      "SalePrice        1460 non-null int64\n",
      "dtypes: float64(3), int64(35), object(43)\n",
      "memory usage: 924.0+ KB\n"
     ]
    }
   ],
   "source": [
    "house.info()"
   ]
  },
  {
   "cell_type": "markdown",
   "metadata": {},
   "source": [
    "## Continous Data\n",
    "* MasVnrArea: Masonry veneer area in square feet\n",
    "* LotFrontage: Linear feet of street connected to property\n",
    "* LotArea: Lot size in square feet\n",
    "* YearBuilt: Original construction date\n",
    "* YearRemodAdd: Remodel date (same as construction date if no remodeling or additions)\n",
    "* BsmtFinSF1: Type 1 finished square feet\n",
    "* BsmtFinSF2: Type 2 finished square feet\n",
    "* BsmtUnfSF: Unfinished square feet of basement area\n",
    "* TotalBsmtSF: Total square feet of basement area\n",
    "* 1stFlrSF: First Floor square feet\n",
    "* 2ndFlrSF: Second floor square feet\n",
    "* LowQualFinSF: Low quality finished square feet (all floors)\n",
    "* GrLivArea: Above grade (ground) living area square feet\n",
    "* GarageYrBlt: Year garage was built\n",
    "* GarageArea: Size of garage in square feet\n",
    "* WoodDeckSF: Wood deck area in square feet\n",
    "* OpenPorchSF: Open porch area in square feet\n",
    "* EnclosedPorch: Enclosed porch area in square feet\n",
    "* 3SsnPorch: Three season porch area in square feet\n",
    "* ScreenPorch: Screen porch area in square feet\n",
    "* PoolArea: Pool area in square feet\n",
    "* MiscVal: (Dollar)Value of miscellaneous feature\n",
    "* YrSold: Year Sold (YYYY)\n",
    "\n",
    "\n",
    "## Discrete (potentially)\n",
    "\n",
    "* BsmtFullBath: Basement full bathrooms\n",
    "* BsmtHalfBath: Basement half bathrooms\n",
    "* FullBath: Full bathrooms above grade\n",
    "* HalfBath: Half baths above grade\n",
    "* Bedroom: Bedrooms above grade (does NOT include basement bedrooms)\n",
    "* Kitchen: Kitchens above grade\n",
    "* TotRmsAbvGrd: Total rooms above grade (does not include bathrooms)\n",
    "* Fireplaces: Number of fireplaces\n",
    "* GarageCars: Size of garage in car capacity\n",
    "* MoSold: Month Sold (MM)\n",
    "\n",
    "\n",
    "## Steps\n",
    "* Attempt to convert all above Discrete variables into non-object types. Other columns tend to hold categorical data, sometimes in the form of code strings (eg. two letter notation for MSzoning) or 1-10 ranking metrics.\n",
    "* Those considered optional qualities of a house (such as Pool or fireplace) null values will be replaced with 0\n"
   ]
  },
  {
   "cell_type": "code",
   "execution_count": 67,
   "metadata": {
    "scrolled": true
   },
   "outputs": [
    {
     "data": {
      "text/plain": [
       "PoolQC           1453\n",
       "MiscFeature      1406\n",
       "Alley            1369\n",
       "Fence            1179\n",
       "FireplaceQu       690\n",
       "LotFrontage       259\n",
       "GarageCond         81\n",
       "GarageType         81\n",
       "GarageYrBlt        81\n",
       "GarageFinish       81\n",
       "GarageQual         81\n",
       "BsmtExposure       38\n",
       "BsmtFinType2       38\n",
       "BsmtFinType1       37\n",
       "BsmtCond           37\n",
       "BsmtQual           37\n",
       "MasVnrArea          8\n",
       "MasVnrType          8\n",
       "Electrical          1\n",
       "Utilities           0\n",
       "YearRemodAdd        0\n",
       "MSSubClass          0\n",
       "Foundation          0\n",
       "ExterCond           0\n",
       "ExterQual           0\n",
       "Exterior2nd         0\n",
       "Exterior1st         0\n",
       "RoofMatl            0\n",
       "RoofStyle           0\n",
       "YearBuilt           0\n",
       "                 ... \n",
       "GarageArea          0\n",
       "PavedDrive          0\n",
       "WoodDeckSF          0\n",
       "OpenPorchSF         0\n",
       "3SsnPorch           0\n",
       "BsmtUnfSF           0\n",
       "ScreenPorch         0\n",
       "PoolArea            0\n",
       "MiscVal             0\n",
       "MoSold              0\n",
       "YrSold              0\n",
       "SaleType            0\n",
       "Functional          0\n",
       "TotRmsAbvGrd        0\n",
       "KitchenQual         0\n",
       "KitchenAbvGr        0\n",
       "BedroomAbvGr        0\n",
       "HalfBath            0\n",
       "FullBath            0\n",
       "BsmtHalfBath        0\n",
       "BsmtFullBath        0\n",
       "GrLivArea           0\n",
       "LowQualFinSF        0\n",
       "2ndFlrSF            0\n",
       "1stFlrSF            0\n",
       "CentralAir          0\n",
       "SaleCondition       0\n",
       "Heating             0\n",
       "TotalBsmtSF         0\n",
       "Id                  0\n",
       "Length: 81, dtype: int64"
      ]
     },
     "execution_count": 67,
     "metadata": {},
     "output_type": "execute_result"
    }
   ],
   "source": [
    "# Check for null values in each column\n",
    "house.isnull().sum().sort_values(ascending=False)"
   ]
  },
  {
   "cell_type": "markdown",
   "metadata": {},
   "source": [
    "Upon closer inspection of the columns' null values, it is found that the null values are within columns that have reasonable reasons to be null. The important columns of MSZoning (used for filtering residential properties) and SalePrice (used as our target) contain no null values."
   ]
  },
  {
   "cell_type": "markdown",
   "metadata": {},
   "source": [
    "## Potential Dummy Variables\n",
    "* MSSubClass: 16 dummies\n",
    "* MSZoning: 8 Dummies\n",
    "* Street: 4 Dummies\n",
    "* Alley: 3 dummies\n",
    "* LotShape: 4 dummies\n",
    "* LandContour: 4 dummies\n",
    "* Utilities: 4 dummies\n",
    "* LotConfig: 4 dummies\n",
    "* LandSlope: 3 dummies\n",
    "* Neighborhood: 25 dummies\n",
    "* Condition1: 9 dummies\n",
    "* BldgType: 5 dummies\n",
    "* HouseStyle: 8 dummies\n",
    "* RoofStyle: 6 dummies\n",
    "* RoofMatl: 8 dummies\n",
    "* Exterior!st: 17 dummies\n",
    "* MasVnrType: 5 dummies\n",
    "* Foundation: 6 dummies\n",
    "* BsmtExposure: 5 dummies\n",
    "* Heating: 6 dummies\n",
    "* CentralAir: Replace in column with binary\n",
    "* Electrical: 5 dummies\n",
    "* Functional: 8 dummmies\n",
    "* GarageType: 7 dummies\n",
    "* PavedDrive: 3 dummies\n",
    "* MiscFeature: 6 dummies\n",
    "* SaleType: 10 dummies\n",
    "* SaleCondition: 6 dummies\n",
    "\n",
    "## Conversion from categorical to numeric?\n",
    "* ExterQual: Replace with 1-5?\n",
    "* ExterCond: Replace 1-5?\n",
    "* BsmtQual: Replace with values\n",
    "* BsmtCond: Replace ith values 1-5\n",
    "* BsmtFinType1: Replace with 7 levels\n",
    "* HeatingQC: Replace with 5 levels\n",
    "* KitchenQual: Replace with 1-5\n",
    "* FireplaceQu: Replace with 0-5\n",
    "* GarageFinish: 0-3\n",
    "* GarageQual: 0-5\n",
    "* GarageCond: 0-5\n",
    "* PoolQC: 0-4\n",
    "* Fence: 0-4"
   ]
  },
  {
   "cell_type": "markdown",
   "metadata": {},
   "source": [
    "# Dummy Variable Creation and Concatenation"
   ]
  },
  {
   "cell_type": "code",
   "execution_count": 68,
   "metadata": {
    "collapsed": true
   },
   "outputs": [],
   "source": [
    "# Create dummy df of MSSubClass\n",
    "Subclassdum = pd.get_dummies(house['MSSubClass'])\n",
    "\n",
    "# Rename columns \n",
    "Subclassdum.columns = ['MSSub_20','MSSub_30','MSSub_40','MSSub_45','MSSub_50','MSSub_60','MSSub_70','MSSub_75',\n",
    "                      'MSSub_80','MSSub_85','MSSub_90','MSSub_120','MSSub_160','MSSub_180','MSSub_190']\n",
    "\n",
    "# Concatenate dummy variables into main df: house\n",
    "house = pd.concat([house, Subclassdum], axis=1, join='outer')"
   ]
  },
  {
   "cell_type": "code",
   "execution_count": 71,
   "metadata": {
    "collapsed": true
   },
   "outputs": [],
   "source": [
    "# Create dummy df of MSZoning\n",
    "Zoneclassdum = pd.get_dummies(house['MSZoning'])\n",
    "\n",
    "# Rename columns\n",
    "Zoneclassdum.columns = ['MSZon_Commercial','MSZon_Resi_FloatVillage','MSZon_Resi_HighDensity','MSZon_Resi_LowDensity',\n",
    "                        'MSZon_Resi_MedDensity']\n",
    "\n",
    "# Concatenate dummy variables into main df: house\n",
    "house = pd.concat([house, Zoneclassdum], axis=1, join='outer')"
   ]
  },
  {
   "cell_type": "code",
   "execution_count": 73,
   "metadata": {
    "collapsed": true
   },
   "outputs": [],
   "source": [
    "# Create dummies\n",
    "streetdum = pd.get_dummies(house['Street'])\n",
    "\n",
    "# Rename columns\n",
    "streetdum.columns = ['Street_Gravel', 'Street_Paved']\n",
    "\n",
    "# Concatenate dummy variables into main df: house\n",
    "house = pd.concat([house, streetdum], axis=1, join='outer')"
   ]
  },
  {
   "cell_type": "code",
   "execution_count": 75,
   "metadata": {},
   "outputs": [
    {
     "data": {
      "text/html": [
       "<div>\n",
       "<style>\n",
       "    .dataframe thead tr:only-child th {\n",
       "        text-align: right;\n",
       "    }\n",
       "\n",
       "    .dataframe thead th {\n",
       "        text-align: left;\n",
       "    }\n",
       "\n",
       "    .dataframe tbody tr th {\n",
       "        vertical-align: top;\n",
       "    }\n",
       "</style>\n",
       "<table border=\"1\" class=\"dataframe\">\n",
       "  <thead>\n",
       "    <tr style=\"text-align: right;\">\n",
       "      <th></th>\n",
       "      <th>Id</th>\n",
       "      <th>MSSubClass</th>\n",
       "      <th>MSZoning</th>\n",
       "      <th>LotFrontage</th>\n",
       "      <th>LotArea</th>\n",
       "      <th>Street</th>\n",
       "      <th>Alley</th>\n",
       "      <th>LotShape</th>\n",
       "      <th>LandContour</th>\n",
       "      <th>Utilities</th>\n",
       "      <th>...</th>\n",
       "      <th>MSSub_190</th>\n",
       "      <th>MSZon_Commercial</th>\n",
       "      <th>MSZon_Resi_FloatVillage</th>\n",
       "      <th>MSZon_Resi_HighDensity</th>\n",
       "      <th>MSZon_Resi_LowDensity</th>\n",
       "      <th>MSZon_Resi_MedDensity</th>\n",
       "      <th>Street_Gravel</th>\n",
       "      <th>Street_Paved</th>\n",
       "      <th>Alley_Gravel</th>\n",
       "      <th>Alley_Paved</th>\n",
       "    </tr>\n",
       "  </thead>\n",
       "  <tbody>\n",
       "    <tr>\n",
       "      <th>0</th>\n",
       "      <td>1</td>\n",
       "      <td>60</td>\n",
       "      <td>RL</td>\n",
       "      <td>65.0</td>\n",
       "      <td>8450</td>\n",
       "      <td>Pave</td>\n",
       "      <td>NaN</td>\n",
       "      <td>Reg</td>\n",
       "      <td>Lvl</td>\n",
       "      <td>AllPub</td>\n",
       "      <td>...</td>\n",
       "      <td>0</td>\n",
       "      <td>0</td>\n",
       "      <td>0</td>\n",
       "      <td>0</td>\n",
       "      <td>1</td>\n",
       "      <td>0</td>\n",
       "      <td>0</td>\n",
       "      <td>1</td>\n",
       "      <td>0</td>\n",
       "      <td>0</td>\n",
       "    </tr>\n",
       "    <tr>\n",
       "      <th>1</th>\n",
       "      <td>2</td>\n",
       "      <td>20</td>\n",
       "      <td>RL</td>\n",
       "      <td>80.0</td>\n",
       "      <td>9600</td>\n",
       "      <td>Pave</td>\n",
       "      <td>NaN</td>\n",
       "      <td>Reg</td>\n",
       "      <td>Lvl</td>\n",
       "      <td>AllPub</td>\n",
       "      <td>...</td>\n",
       "      <td>0</td>\n",
       "      <td>0</td>\n",
       "      <td>0</td>\n",
       "      <td>0</td>\n",
       "      <td>1</td>\n",
       "      <td>0</td>\n",
       "      <td>0</td>\n",
       "      <td>1</td>\n",
       "      <td>0</td>\n",
       "      <td>0</td>\n",
       "    </tr>\n",
       "    <tr>\n",
       "      <th>2</th>\n",
       "      <td>3</td>\n",
       "      <td>60</td>\n",
       "      <td>RL</td>\n",
       "      <td>68.0</td>\n",
       "      <td>11250</td>\n",
       "      <td>Pave</td>\n",
       "      <td>NaN</td>\n",
       "      <td>IR1</td>\n",
       "      <td>Lvl</td>\n",
       "      <td>AllPub</td>\n",
       "      <td>...</td>\n",
       "      <td>0</td>\n",
       "      <td>0</td>\n",
       "      <td>0</td>\n",
       "      <td>0</td>\n",
       "      <td>1</td>\n",
       "      <td>0</td>\n",
       "      <td>0</td>\n",
       "      <td>1</td>\n",
       "      <td>0</td>\n",
       "      <td>0</td>\n",
       "    </tr>\n",
       "    <tr>\n",
       "      <th>3</th>\n",
       "      <td>4</td>\n",
       "      <td>70</td>\n",
       "      <td>RL</td>\n",
       "      <td>60.0</td>\n",
       "      <td>9550</td>\n",
       "      <td>Pave</td>\n",
       "      <td>NaN</td>\n",
       "      <td>IR1</td>\n",
       "      <td>Lvl</td>\n",
       "      <td>AllPub</td>\n",
       "      <td>...</td>\n",
       "      <td>0</td>\n",
       "      <td>0</td>\n",
       "      <td>0</td>\n",
       "      <td>0</td>\n",
       "      <td>1</td>\n",
       "      <td>0</td>\n",
       "      <td>0</td>\n",
       "      <td>1</td>\n",
       "      <td>0</td>\n",
       "      <td>0</td>\n",
       "    </tr>\n",
       "    <tr>\n",
       "      <th>4</th>\n",
       "      <td>5</td>\n",
       "      <td>60</td>\n",
       "      <td>RL</td>\n",
       "      <td>84.0</td>\n",
       "      <td>14260</td>\n",
       "      <td>Pave</td>\n",
       "      <td>NaN</td>\n",
       "      <td>IR1</td>\n",
       "      <td>Lvl</td>\n",
       "      <td>AllPub</td>\n",
       "      <td>...</td>\n",
       "      <td>0</td>\n",
       "      <td>0</td>\n",
       "      <td>0</td>\n",
       "      <td>0</td>\n",
       "      <td>1</td>\n",
       "      <td>0</td>\n",
       "      <td>0</td>\n",
       "      <td>1</td>\n",
       "      <td>0</td>\n",
       "      <td>0</td>\n",
       "    </tr>\n",
       "  </tbody>\n",
       "</table>\n",
       "<p>5 rows × 105 columns</p>\n",
       "</div>"
      ],
      "text/plain": [
       "   Id  MSSubClass MSZoning  LotFrontage  LotArea Street Alley LotShape  \\\n",
       "0   1          60       RL         65.0     8450   Pave   NaN      Reg   \n",
       "1   2          20       RL         80.0     9600   Pave   NaN      Reg   \n",
       "2   3          60       RL         68.0    11250   Pave   NaN      IR1   \n",
       "3   4          70       RL         60.0     9550   Pave   NaN      IR1   \n",
       "4   5          60       RL         84.0    14260   Pave   NaN      IR1   \n",
       "\n",
       "  LandContour Utilities     ...      MSSub_190 MSZon_Commercial  \\\n",
       "0         Lvl    AllPub     ...              0                0   \n",
       "1         Lvl    AllPub     ...              0                0   \n",
       "2         Lvl    AllPub     ...              0                0   \n",
       "3         Lvl    AllPub     ...              0                0   \n",
       "4         Lvl    AllPub     ...              0                0   \n",
       "\n",
       "  MSZon_Resi_FloatVillage MSZon_Resi_HighDensity MSZon_Resi_LowDensity  \\\n",
       "0                       0                      0                     1   \n",
       "1                       0                      0                     1   \n",
       "2                       0                      0                     1   \n",
       "3                       0                      0                     1   \n",
       "4                       0                      0                     1   \n",
       "\n",
       "  MSZon_Resi_MedDensity Street_Gravel  Street_Paved  Alley_Gravel  Alley_Paved  \n",
       "0                     0             0             1             0            0  \n",
       "1                     0             0             1             0            0  \n",
       "2                     0             0             1             0            0  \n",
       "3                     0             0             1             0            0  \n",
       "4                     0             0             1             0            0  \n",
       "\n",
       "[5 rows x 105 columns]"
      ]
     },
     "execution_count": 75,
     "metadata": {},
     "output_type": "execute_result"
    }
   ],
   "source": [
    "# Create dummies\n",
    "alleydum = pd.get_dummies(house['Alley'])\n",
    "\n",
    "# Rename columns\n",
    "alleydum.columns = ['Alley_Gravel', 'Alley_Paved']\n",
    "\n",
    "# Concatenate dummy variables into main df: house\n",
    "house = pd.concat([house, alleydum], axis=1, join='outer')\n",
    "house.head()"
   ]
  },
  {
   "cell_type": "code",
   "execution_count": 77,
   "metadata": {
    "collapsed": true,
    "scrolled": true
   },
   "outputs": [],
   "source": [
    "# Create dummies\n",
    "lotshapedum = pd.get_dummies(house['LotShape'])\n",
    "\n",
    "# Rename columns\n",
    "lotshapedum.columns = ['LotSha_SlightIrregular','LotSha_ModIrregular','LotSha_Irregular',\n",
    "                       'LotSha_Regular']\n",
    "\n",
    "# Concatenate dummy variables into main df: house\n",
    "house = pd.concat([house, lotshapedum], axis=1, join='outer')"
   ]
  },
  {
   "cell_type": "code",
   "execution_count": 79,
   "metadata": {
    "collapsed": true,
    "scrolled": true
   },
   "outputs": [],
   "source": [
    "# Create dummies\n",
    "contourdum = pd.get_dummies(house['LandContour'])\n",
    "\n",
    "# Rename columns\n",
    "contourdum.columns = ['LContour_Banked','LContour_Hillside','LContour_Depression','LContour_Flat']\n",
    "\n",
    "# Concatenate dummy variables into main df: house\n",
    "house = pd.concat([house, contourdum], axis=1, join='outer')"
   ]
  },
  {
   "cell_type": "code",
   "execution_count": 81,
   "metadata": {
    "collapsed": true,
    "scrolled": true
   },
   "outputs": [],
   "source": [
    "# Create dummies\n",
    "hooddum = pd.get_dummies(house['Neighborhood'])\n",
    "\n",
    "# Rename columns\n",
    "for i in hooddum.columns:\n",
    "    hooddum.rename(columns={i: 'Hood_'+str(i)}, inplace=True)\n",
    "\n",
    "# Concatenate dummy variables into main df: house\n",
    "house = pd.concat([house, hooddum], axis=1, join='outer')"
   ]
  },
  {
   "cell_type": "code",
   "execution_count": 83,
   "metadata": {
    "collapsed": true,
    "scrolled": true
   },
   "outputs": [],
   "source": [
    "# Create dummies\n",
    "condi1dum = pd.get_dummies(house['Condition1'])\n",
    "\n",
    "# Rename columns\n",
    "for i in condi1dum.columns:\n",
    "    condi1dum.rename(columns={i: 'Condi1_'+str(i)}, inplace=True)\n",
    "    \n",
    "# Concatenate dummy variables into main df: house\n",
    "house = pd.concat([house, condi1dum], axis=1, join='outer')"
   ]
  },
  {
   "cell_type": "code",
   "execution_count": 85,
   "metadata": {
    "collapsed": true
   },
   "outputs": [],
   "source": [
    "# Create dummies\n",
    "bldgtypedum = pd.get_dummies(house['BldgType'])\n",
    "\n",
    "# Rename columns\n",
    "bldgtypedum.columns = ['BldgType_1fam','BldgType_2famconv','BldgType_duplex','BldgType_twnhsIns','BldgType_twnhsEnd',]\n",
    "\n",
    "# Concatenate dummy variables into main df: house\n",
    "house = pd.concat([house, bldgtypedum], axis=1, join='outer')"
   ]
  },
  {
   "cell_type": "code",
   "execution_count": 87,
   "metadata": {
    "collapsed": true,
    "scrolled": true
   },
   "outputs": [],
   "source": [
    "# Create dummies\n",
    "houseStyleDum = pd.get_dummies(house['HouseStyle'])\n",
    "\n",
    "# Rename columns\n",
    "for i in houseStyleDum.columns:\n",
    "    houseStyleDum.rename(columns={i: 'HouStyle_'+str(i)}, inplace=True)\n",
    "\n",
    "# Concatenate dummy variables into main df: house\n",
    "house = pd.concat([house, houseStyleDum], axis=1, join='outer')"
   ]
  },
  {
   "cell_type": "code",
   "execution_count": 89,
   "metadata": {
    "collapsed": true
   },
   "outputs": [],
   "source": [
    "# Create dummies\n",
    "roofStyleDum = pd.get_dummies(house['RoofStyle'])\n",
    "\n",
    "# Rename columns\n",
    "for i in roofStyleDum.columns:\n",
    "    roofStyleDum.rename(columns={i: 'RoofStyle_'+str(i)}, inplace=True)\n",
    "\n",
    "# Concatenate dummy variables into main df: house\n",
    "house = pd.concat([house, roofStyleDum], axis=1, join='outer')"
   ]
  },
  {
   "cell_type": "code",
   "execution_count": 91,
   "metadata": {},
   "outputs": [
    {
     "data": {
      "text/html": [
       "<div>\n",
       "<style>\n",
       "    .dataframe thead tr:only-child th {\n",
       "        text-align: right;\n",
       "    }\n",
       "\n",
       "    .dataframe thead th {\n",
       "        text-align: left;\n",
       "    }\n",
       "\n",
       "    .dataframe tbody tr th {\n",
       "        vertical-align: top;\n",
       "    }\n",
       "</style>\n",
       "<table border=\"1\" class=\"dataframe\">\n",
       "  <thead>\n",
       "    <tr style=\"text-align: right;\">\n",
       "      <th></th>\n",
       "      <th>Id</th>\n",
       "      <th>MSSubClass</th>\n",
       "      <th>MSZoning</th>\n",
       "      <th>LotFrontage</th>\n",
       "      <th>LotArea</th>\n",
       "      <th>Street</th>\n",
       "      <th>Alley</th>\n",
       "      <th>LotShape</th>\n",
       "      <th>LandContour</th>\n",
       "      <th>Utilities</th>\n",
       "      <th>...</th>\n",
       "      <th>RoofStyle_Mansard</th>\n",
       "      <th>RoofStyle_Shed</th>\n",
       "      <th>RoofMatl_ClyTile</th>\n",
       "      <th>RoofMatl_CompShg</th>\n",
       "      <th>RoofMatl_Membran</th>\n",
       "      <th>RoofMatl_Metal</th>\n",
       "      <th>RoofMatl_Roll</th>\n",
       "      <th>RoofMatl_Tar&amp;Grv</th>\n",
       "      <th>RoofMatl_WdShake</th>\n",
       "      <th>RoofMatl_WdShngl</th>\n",
       "    </tr>\n",
       "  </thead>\n",
       "  <tbody>\n",
       "    <tr>\n",
       "      <th>0</th>\n",
       "      <td>1</td>\n",
       "      <td>60</td>\n",
       "      <td>RL</td>\n",
       "      <td>65.0</td>\n",
       "      <td>8450</td>\n",
       "      <td>Pave</td>\n",
       "      <td>NaN</td>\n",
       "      <td>Reg</td>\n",
       "      <td>Lvl</td>\n",
       "      <td>AllPub</td>\n",
       "      <td>...</td>\n",
       "      <td>0</td>\n",
       "      <td>0</td>\n",
       "      <td>0</td>\n",
       "      <td>1</td>\n",
       "      <td>0</td>\n",
       "      <td>0</td>\n",
       "      <td>0</td>\n",
       "      <td>0</td>\n",
       "      <td>0</td>\n",
       "      <td>0</td>\n",
       "    </tr>\n",
       "    <tr>\n",
       "      <th>1</th>\n",
       "      <td>2</td>\n",
       "      <td>20</td>\n",
       "      <td>RL</td>\n",
       "      <td>80.0</td>\n",
       "      <td>9600</td>\n",
       "      <td>Pave</td>\n",
       "      <td>NaN</td>\n",
       "      <td>Reg</td>\n",
       "      <td>Lvl</td>\n",
       "      <td>AllPub</td>\n",
       "      <td>...</td>\n",
       "      <td>0</td>\n",
       "      <td>0</td>\n",
       "      <td>0</td>\n",
       "      <td>1</td>\n",
       "      <td>0</td>\n",
       "      <td>0</td>\n",
       "      <td>0</td>\n",
       "      <td>0</td>\n",
       "      <td>0</td>\n",
       "      <td>0</td>\n",
       "    </tr>\n",
       "    <tr>\n",
       "      <th>2</th>\n",
       "      <td>3</td>\n",
       "      <td>60</td>\n",
       "      <td>RL</td>\n",
       "      <td>68.0</td>\n",
       "      <td>11250</td>\n",
       "      <td>Pave</td>\n",
       "      <td>NaN</td>\n",
       "      <td>IR1</td>\n",
       "      <td>Lvl</td>\n",
       "      <td>AllPub</td>\n",
       "      <td>...</td>\n",
       "      <td>0</td>\n",
       "      <td>0</td>\n",
       "      <td>0</td>\n",
       "      <td>1</td>\n",
       "      <td>0</td>\n",
       "      <td>0</td>\n",
       "      <td>0</td>\n",
       "      <td>0</td>\n",
       "      <td>0</td>\n",
       "      <td>0</td>\n",
       "    </tr>\n",
       "    <tr>\n",
       "      <th>3</th>\n",
       "      <td>4</td>\n",
       "      <td>70</td>\n",
       "      <td>RL</td>\n",
       "      <td>60.0</td>\n",
       "      <td>9550</td>\n",
       "      <td>Pave</td>\n",
       "      <td>NaN</td>\n",
       "      <td>IR1</td>\n",
       "      <td>Lvl</td>\n",
       "      <td>AllPub</td>\n",
       "      <td>...</td>\n",
       "      <td>0</td>\n",
       "      <td>0</td>\n",
       "      <td>0</td>\n",
       "      <td>1</td>\n",
       "      <td>0</td>\n",
       "      <td>0</td>\n",
       "      <td>0</td>\n",
       "      <td>0</td>\n",
       "      <td>0</td>\n",
       "      <td>0</td>\n",
       "    </tr>\n",
       "    <tr>\n",
       "      <th>4</th>\n",
       "      <td>5</td>\n",
       "      <td>60</td>\n",
       "      <td>RL</td>\n",
       "      <td>84.0</td>\n",
       "      <td>14260</td>\n",
       "      <td>Pave</td>\n",
       "      <td>NaN</td>\n",
       "      <td>IR1</td>\n",
       "      <td>Lvl</td>\n",
       "      <td>AllPub</td>\n",
       "      <td>...</td>\n",
       "      <td>0</td>\n",
       "      <td>0</td>\n",
       "      <td>0</td>\n",
       "      <td>1</td>\n",
       "      <td>0</td>\n",
       "      <td>0</td>\n",
       "      <td>0</td>\n",
       "      <td>0</td>\n",
       "      <td>0</td>\n",
       "      <td>0</td>\n",
       "    </tr>\n",
       "  </tbody>\n",
       "</table>\n",
       "<p>5 rows × 174 columns</p>\n",
       "</div>"
      ],
      "text/plain": [
       "   Id  MSSubClass MSZoning  LotFrontage  LotArea Street Alley LotShape  \\\n",
       "0   1          60       RL         65.0     8450   Pave   NaN      Reg   \n",
       "1   2          20       RL         80.0     9600   Pave   NaN      Reg   \n",
       "2   3          60       RL         68.0    11250   Pave   NaN      IR1   \n",
       "3   4          70       RL         60.0     9550   Pave   NaN      IR1   \n",
       "4   5          60       RL         84.0    14260   Pave   NaN      IR1   \n",
       "\n",
       "  LandContour Utilities        ...        RoofStyle_Mansard RoofStyle_Shed  \\\n",
       "0         Lvl    AllPub        ...                        0              0   \n",
       "1         Lvl    AllPub        ...                        0              0   \n",
       "2         Lvl    AllPub        ...                        0              0   \n",
       "3         Lvl    AllPub        ...                        0              0   \n",
       "4         Lvl    AllPub        ...                        0              0   \n",
       "\n",
       "  RoofMatl_ClyTile RoofMatl_CompShg RoofMatl_Membran RoofMatl_Metal  \\\n",
       "0                0                1                0              0   \n",
       "1                0                1                0              0   \n",
       "2                0                1                0              0   \n",
       "3                0                1                0              0   \n",
       "4                0                1                0              0   \n",
       "\n",
       "  RoofMatl_Roll  RoofMatl_Tar&Grv  RoofMatl_WdShake  RoofMatl_WdShngl  \n",
       "0             0                 0                 0                 0  \n",
       "1             0                 0                 0                 0  \n",
       "2             0                 0                 0                 0  \n",
       "3             0                 0                 0                 0  \n",
       "4             0                 0                 0                 0  \n",
       "\n",
       "[5 rows x 174 columns]"
      ]
     },
     "execution_count": 91,
     "metadata": {},
     "output_type": "execute_result"
    }
   ],
   "source": [
    "# Create dummies\n",
    "roofMatlDum = pd.get_dummies(house['RoofMatl'])\n",
    "\n",
    "# Rename columns\n",
    "for i in roofMatlDum.columns:\n",
    "    roofMatlDum.rename(columns={i: 'RoofMatl_'+str(i)}, inplace=True)\n",
    "\n",
    "# Concatenate dummy variables into main df: house\n",
    "house = pd.concat([house, roofMatlDum], axis=1, join='outer')\n",
    "house.head()"
   ]
  },
  {
   "cell_type": "code",
   "execution_count": 93,
   "metadata": {
    "collapsed": true
   },
   "outputs": [],
   "source": [
    "# Create dummies\n",
    "ExteriorDum = pd.get_dummies(house['Exterior1st'])\n",
    "\n",
    "# Rename columns\n",
    "for i in ExteriorDum.columns:\n",
    "    ExteriorDum.rename(columns={i: 'Exter1_'+str(i)}, inplace=True)\n",
    "    \n",
    "# Concatenate dummy variables into main df: house\n",
    "house = pd.concat([house, ExteriorDum], axis=1, join='outer')"
   ]
  },
  {
   "cell_type": "code",
   "execution_count": 95,
   "metadata": {
    "collapsed": true
   },
   "outputs": [],
   "source": [
    "# Create dummies\n",
    "MasVnrDum = pd.get_dummies(house['MasVnrType'])\n",
    "\n",
    "# Rename columns\n",
    "for i in MasVnrDum.columns:\n",
    "    MasVnrDum.rename(columns={i: 'MasVnr_'+str(i)}, inplace=True)\n",
    "\n",
    "# Concatenate dummy variables into main df: house\n",
    "house = pd.concat([house, MasVnrDum], axis=1, join='outer')"
   ]
  },
  {
   "cell_type": "code",
   "execution_count": 97,
   "metadata": {
    "collapsed": true
   },
   "outputs": [],
   "source": [
    "# Create dummies\n",
    "foundDum = pd.get_dummies(house['Foundation'])\n",
    "\n",
    "# Rename columns\n",
    "for i in foundDum.columns:\n",
    "    foundDum.rename(columns={i: 'Fndtn_'+str(i)}, inplace=True)\n",
    "    \n",
    "# Concatenate dummy variables into main df: house\n",
    "house = pd.concat([house, foundDum], axis=1, join='outer')"
   ]
  },
  {
   "cell_type": "code",
   "execution_count": 99,
   "metadata": {
    "collapsed": true
   },
   "outputs": [],
   "source": [
    "# Create dummies\n",
    "utilDum = pd.get_dummies(house['Utilities'])\n",
    "\n",
    "# Rename columns\n",
    "utilDum.columns = ['Util_All', 'Util_NoSewa']\n",
    "\n",
    "# Concatenate dummy variables into main df: house\n",
    "house = pd.concat([house, utilDum], axis=1, join='outer')"
   ]
  },
  {
   "cell_type": "code",
   "execution_count": 101,
   "metadata": {
    "collapsed": true
   },
   "outputs": [],
   "source": [
    "# Create dummies\n",
    "heatingDum = pd.get_dummies(house['Heating'])\n",
    "\n",
    "# Rename columns\n",
    "for i in heatingDum.columns:\n",
    "    heatingDum.rename(columns={i: 'Heatg_'+str(i)}, inplace=True)\n",
    "    \n",
    "# Concatenate dummy variables into main df: house\n",
    "house = pd.concat([house, heatingDum], axis=1, join='outer')"
   ]
  },
  {
   "cell_type": "code",
   "execution_count": 103,
   "metadata": {
    "collapsed": true
   },
   "outputs": [],
   "source": [
    "# Create dummies\n",
    "electricDum = pd.get_dummies(house['Electrical'])\n",
    "\n",
    "# Rename columns\n",
    "for i in electricDum.columns:\n",
    "    electricDum.rename(columns={i: 'Elec_'+str(i)}, inplace=True)\n",
    "\n",
    "# Concatenate dummy variables into main df: house\n",
    "house = pd.concat([house, electricDum], axis=1, join='outer')"
   ]
  },
  {
   "cell_type": "code",
   "execution_count": 105,
   "metadata": {
    "collapsed": true
   },
   "outputs": [],
   "source": [
    "# Create dummies\n",
    "functionDum = pd.get_dummies(house['Functional'])\n",
    "\n",
    "# Rename columns\n",
    "for i in functionDum.columns:\n",
    "    functionDum.rename(columns={i: 'Func_'+str(i)}, inplace=True)\n",
    "\n",
    "# Concatenate dummy variables into main df: house\n",
    "house = pd.concat([house, functionDum], axis=1, join='outer')"
   ]
  },
  {
   "cell_type": "code",
   "execution_count": 107,
   "metadata": {
    "collapsed": true
   },
   "outputs": [],
   "source": [
    "# Create dummies\n",
    "garagetypeDum = pd.get_dummies(house['GarageType'])\n",
    "\n",
    "# Rename columns\n",
    "for i in garagetypeDum.columns:\n",
    "    garagetypeDum.rename(columns={i: 'GarType_'+str(i)}, inplace=True)\n",
    "\n",
    "# Concatenate dummy variables into main df: house\n",
    "house = pd.concat([house, garagetypeDum], axis=1, join='outer')"
   ]
  },
  {
   "cell_type": "code",
   "execution_count": 109,
   "metadata": {
    "collapsed": true
   },
   "outputs": [],
   "source": [
    "# Create dummies\n",
    "lotconDum = pd.get_dummies(house['LotConfig'])\n",
    "\n",
    "# Rename columns\n",
    "lotconDum.columns = ['LotCon_Corner','LotCon_CulDSac','LotCon_Front2','LotCon_Front3','LotCon_Inside',]\n",
    "\n",
    "# Concatenate dummy variables into main df: house\n",
    "house = pd.concat([house, lotconDum], axis=1, join='outer')"
   ]
  },
  {
   "cell_type": "code",
   "execution_count": 111,
   "metadata": {
    "collapsed": true
   },
   "outputs": [],
   "source": [
    "# Create dummies\n",
    "pavedDriveDum = pd.get_dummies(house['PavedDrive'])\n",
    "\n",
    "# Rename columns\n",
    "pavedDriveDum.columns = ['Paved_DirtGrav', 'Paved_part', 'Paved_paved']\n",
    "\n",
    "# Concatenate dummy variables into main df: house\n",
    "house = pd.concat([house, pavedDriveDum], axis=1, join='outer')"
   ]
  },
  {
   "cell_type": "code",
   "execution_count": 113,
   "metadata": {
    "collapsed": true
   },
   "outputs": [],
   "source": [
    "# Create dummies\n",
    "miscfeatDum = pd.get_dummies(house['MiscFeature'])\n",
    "\n",
    "# Rename 1 column\n",
    "miscfeatDum.rename(columns={'TenC': 'TenCrt'}, inplace=True)\n",
    "\n",
    "# Rename all by looping and adding suffix\n",
    "for i in miscfeatDum.columns:\n",
    "    miscfeatDum.rename(columns={i: 'MiscFeat_'+str(i)}, inplace=True)\n",
    "\n",
    "# Concatenate dummy variables into main df: house\n",
    "house = pd.concat([house, miscfeatDum], axis=1, join='outer')"
   ]
  },
  {
   "cell_type": "code",
   "execution_count": 115,
   "metadata": {
    "collapsed": true
   },
   "outputs": [],
   "source": [
    "# Get dummies\n",
    "saletypeDum = pd.get_dummies(house['SaleType'])\n",
    "\n",
    "# Rename columns (more descriptive)\n",
    "saletypeDum.columns = ['CrtOficDeedEst', 'CashWarrDeed', 'Con15dpReg', 'ConLwDp','ConLwInt',\n",
    "                      'ConLwdpLwInt','New','Other', 'WarrDeed']\n",
    "# Add prefix to columns\n",
    "for i in saletypeDum.columns:\n",
    "    saletypeDum.rename(columns={i: 'SaleType_'+str(i)}, inplace=True)\n",
    "\n",
    "# Concatenate dummy variables into main df: house\n",
    "house = pd.concat([house, saletypeDum], axis=1, join='outer')"
   ]
  },
  {
   "cell_type": "code",
   "execution_count": 117,
   "metadata": {
    "collapsed": true
   },
   "outputs": [],
   "source": [
    "# Get dummies\n",
    "saleconDum = pd.get_dummies(house['SaleCondition'])\n",
    "\n",
    "# Rename columns\n",
    "for i in saleconDum.columns:\n",
    "    saleconDum.rename(columns={i: 'SaleCond_'+str(i)}, inplace=True)\n",
    "\n",
    "# Concatenate dummy variables into main df: house\n",
    "house = pd.concat([house, saleconDum], axis=1, join='outer')"
   ]
  },
  {
   "cell_type": "code",
   "execution_count": 118,
   "metadata": {
    "scrolled": true
   },
   "outputs": [
    {
     "data": {
      "text/html": [
       "<div>\n",
       "<style>\n",
       "    .dataframe thead tr:only-child th {\n",
       "        text-align: right;\n",
       "    }\n",
       "\n",
       "    .dataframe thead th {\n",
       "        text-align: left;\n",
       "    }\n",
       "\n",
       "    .dataframe tbody tr th {\n",
       "        vertical-align: top;\n",
       "    }\n",
       "</style>\n",
       "<table border=\"1\" class=\"dataframe\">\n",
       "  <thead>\n",
       "    <tr style=\"text-align: right;\">\n",
       "      <th></th>\n",
       "      <th>Id</th>\n",
       "      <th>MSSubClass</th>\n",
       "      <th>MSZoning</th>\n",
       "      <th>LotFrontage</th>\n",
       "      <th>LotArea</th>\n",
       "      <th>Street</th>\n",
       "      <th>Alley</th>\n",
       "      <th>LotShape</th>\n",
       "      <th>LandContour</th>\n",
       "      <th>Utilities</th>\n",
       "      <th>...</th>\n",
       "      <th>SaleType_ConLwdpLwInt</th>\n",
       "      <th>SaleType_New</th>\n",
       "      <th>SaleType_Other</th>\n",
       "      <th>SaleType_WarrDeed</th>\n",
       "      <th>SaleCond_Abnorml</th>\n",
       "      <th>SaleCond_AdjLand</th>\n",
       "      <th>SaleCond_Alloca</th>\n",
       "      <th>SaleCond_Family</th>\n",
       "      <th>SaleCond_Normal</th>\n",
       "      <th>SaleCond_Partial</th>\n",
       "    </tr>\n",
       "  </thead>\n",
       "  <tbody>\n",
       "    <tr>\n",
       "      <th>1455</th>\n",
       "      <td>1456</td>\n",
       "      <td>60</td>\n",
       "      <td>RL</td>\n",
       "      <td>62.0</td>\n",
       "      <td>7917</td>\n",
       "      <td>Pave</td>\n",
       "      <td>NaN</td>\n",
       "      <td>Reg</td>\n",
       "      <td>Lvl</td>\n",
       "      <td>AllPub</td>\n",
       "      <td>...</td>\n",
       "      <td>0</td>\n",
       "      <td>0</td>\n",
       "      <td>0</td>\n",
       "      <td>1</td>\n",
       "      <td>0</td>\n",
       "      <td>0</td>\n",
       "      <td>0</td>\n",
       "      <td>0</td>\n",
       "      <td>1</td>\n",
       "      <td>0</td>\n",
       "    </tr>\n",
       "    <tr>\n",
       "      <th>1456</th>\n",
       "      <td>1457</td>\n",
       "      <td>20</td>\n",
       "      <td>RL</td>\n",
       "      <td>85.0</td>\n",
       "      <td>13175</td>\n",
       "      <td>Pave</td>\n",
       "      <td>NaN</td>\n",
       "      <td>Reg</td>\n",
       "      <td>Lvl</td>\n",
       "      <td>AllPub</td>\n",
       "      <td>...</td>\n",
       "      <td>0</td>\n",
       "      <td>0</td>\n",
       "      <td>0</td>\n",
       "      <td>1</td>\n",
       "      <td>0</td>\n",
       "      <td>0</td>\n",
       "      <td>0</td>\n",
       "      <td>0</td>\n",
       "      <td>1</td>\n",
       "      <td>0</td>\n",
       "    </tr>\n",
       "    <tr>\n",
       "      <th>1457</th>\n",
       "      <td>1458</td>\n",
       "      <td>70</td>\n",
       "      <td>RL</td>\n",
       "      <td>66.0</td>\n",
       "      <td>9042</td>\n",
       "      <td>Pave</td>\n",
       "      <td>NaN</td>\n",
       "      <td>Reg</td>\n",
       "      <td>Lvl</td>\n",
       "      <td>AllPub</td>\n",
       "      <td>...</td>\n",
       "      <td>0</td>\n",
       "      <td>0</td>\n",
       "      <td>0</td>\n",
       "      <td>1</td>\n",
       "      <td>0</td>\n",
       "      <td>0</td>\n",
       "      <td>0</td>\n",
       "      <td>0</td>\n",
       "      <td>1</td>\n",
       "      <td>0</td>\n",
       "    </tr>\n",
       "    <tr>\n",
       "      <th>1458</th>\n",
       "      <td>1459</td>\n",
       "      <td>20</td>\n",
       "      <td>RL</td>\n",
       "      <td>68.0</td>\n",
       "      <td>9717</td>\n",
       "      <td>Pave</td>\n",
       "      <td>NaN</td>\n",
       "      <td>Reg</td>\n",
       "      <td>Lvl</td>\n",
       "      <td>AllPub</td>\n",
       "      <td>...</td>\n",
       "      <td>0</td>\n",
       "      <td>0</td>\n",
       "      <td>0</td>\n",
       "      <td>1</td>\n",
       "      <td>0</td>\n",
       "      <td>0</td>\n",
       "      <td>0</td>\n",
       "      <td>0</td>\n",
       "      <td>1</td>\n",
       "      <td>0</td>\n",
       "    </tr>\n",
       "    <tr>\n",
       "      <th>1459</th>\n",
       "      <td>1460</td>\n",
       "      <td>20</td>\n",
       "      <td>RL</td>\n",
       "      <td>75.0</td>\n",
       "      <td>9937</td>\n",
       "      <td>Pave</td>\n",
       "      <td>NaN</td>\n",
       "      <td>Reg</td>\n",
       "      <td>Lvl</td>\n",
       "      <td>AllPub</td>\n",
       "      <td>...</td>\n",
       "      <td>0</td>\n",
       "      <td>0</td>\n",
       "      <td>0</td>\n",
       "      <td>1</td>\n",
       "      <td>0</td>\n",
       "      <td>0</td>\n",
       "      <td>0</td>\n",
       "      <td>0</td>\n",
       "      <td>1</td>\n",
       "      <td>0</td>\n",
       "    </tr>\n",
       "  </tbody>\n",
       "</table>\n",
       "<p>5 rows × 252 columns</p>\n",
       "</div>"
      ],
      "text/plain": [
       "        Id  MSSubClass MSZoning  LotFrontage  LotArea Street Alley LotShape  \\\n",
       "1455  1456          60       RL         62.0     7917   Pave   NaN      Reg   \n",
       "1456  1457          20       RL         85.0    13175   Pave   NaN      Reg   \n",
       "1457  1458          70       RL         66.0     9042   Pave   NaN      Reg   \n",
       "1458  1459          20       RL         68.0     9717   Pave   NaN      Reg   \n",
       "1459  1460          20       RL         75.0     9937   Pave   NaN      Reg   \n",
       "\n",
       "     LandContour Utilities        ...        SaleType_ConLwdpLwInt  \\\n",
       "1455         Lvl    AllPub        ...                            0   \n",
       "1456         Lvl    AllPub        ...                            0   \n",
       "1457         Lvl    AllPub        ...                            0   \n",
       "1458         Lvl    AllPub        ...                            0   \n",
       "1459         Lvl    AllPub        ...                            0   \n",
       "\n",
       "     SaleType_New SaleType_Other SaleType_WarrDeed SaleCond_Abnorml  \\\n",
       "1455            0              0                 1                0   \n",
       "1456            0              0                 1                0   \n",
       "1457            0              0                 1                0   \n",
       "1458            0              0                 1                0   \n",
       "1459            0              0                 1                0   \n",
       "\n",
       "     SaleCond_AdjLand SaleCond_Alloca  SaleCond_Family  SaleCond_Normal  \\\n",
       "1455                0               0                0                1   \n",
       "1456                0               0                0                1   \n",
       "1457                0               0                0                1   \n",
       "1458                0               0                0                1   \n",
       "1459                0               0                0                1   \n",
       "\n",
       "      SaleCond_Partial  \n",
       "1455                 0  \n",
       "1456                 0  \n",
       "1457                 0  \n",
       "1458                 0  \n",
       "1459                 0  \n",
       "\n",
       "[5 rows x 252 columns]"
      ]
     },
     "execution_count": 118,
     "metadata": {},
     "output_type": "execute_result"
    }
   ],
   "source": [
    "house.tail()"
   ]
  },
  {
   "cell_type": "code",
   "execution_count": 131,
   "metadata": {
    "scrolled": true
   },
   "outputs": [
    {
     "data": {
      "text/plain": [
       "SaleCond_Partial     0\n",
       "SaleType             0\n",
       "MSSub_90             0\n",
       "MSSub_85             0\n",
       "MSSub_80             0\n",
       "MSSub_75             0\n",
       "MSSub_70             0\n",
       "MSSub_60             0\n",
       "MSSub_50             0\n",
       "MSSub_45             0\n",
       "MSSub_40             0\n",
       "MSSub_30             0\n",
       "MSSub_20             0\n",
       "SalePrice            0\n",
       "SaleCondition        0\n",
       "YrSold               0\n",
       "MSSub_160            0\n",
       "MoSold               0\n",
       "MiscVal              0\n",
       "MiscFeature          0\n",
       "Fence                0\n",
       "PoolQC               0\n",
       "PoolArea             0\n",
       "ScreenPorch          0\n",
       "3SsnPorch            0\n",
       "EnclosedPorch        0\n",
       "OpenPorchSF          0\n",
       "WoodDeckSF           0\n",
       "PavedDrive           0\n",
       "GarageCond           0\n",
       "                    ..\n",
       "HouStyle_SFoyer      0\n",
       "HouStyle_SLvl        0\n",
       "Exter1_VinylSd       0\n",
       "Exter1_Stucco        0\n",
       "Exter1_Stone         0\n",
       "Exter1_Plywood       0\n",
       "Exter1_MetalSd       0\n",
       "Exter1_ImStucc       0\n",
       "Exter1_HdBoard       0\n",
       "Exter1_CemntBd       0\n",
       "Exter1_CBlock        0\n",
       "Exter1_BrkFace       0\n",
       "Exter1_BrkComm       0\n",
       "Exter1_AsphShn       0\n",
       "Exter1_AsbShng       0\n",
       "RoofMatl_WdShngl     0\n",
       "RoofMatl_WdShake     0\n",
       "RoofMatl_Tar&Grv     0\n",
       "RoofMatl_Roll        0\n",
       "RoofMatl_Metal       0\n",
       "RoofMatl_Membran     0\n",
       "RoofMatl_CompShg     0\n",
       "RoofMatl_ClyTile     0\n",
       "RoofStyle_Shed       0\n",
       "RoofStyle_Mansard    0\n",
       "RoofStyle_Hip        0\n",
       "RoofStyle_Gambrel    0\n",
       "RoofStyle_Gable      0\n",
       "RoofStyle_Flat       0\n",
       "Id                   0\n",
       "Length: 252, dtype: int64"
      ]
     },
     "execution_count": 131,
     "metadata": {},
     "output_type": "execute_result"
    }
   ],
   "source": [
    "house.isnull().sum().sort_values(ascending=False)\n",
    "# house['MiscFeature'].fillna(value=0)\n",
    "# house['Alley'].fillna(value=0)\n",
    "# house.fillna(value=0)"
   ]
  },
  {
   "cell_type": "markdown",
   "metadata": {},
   "source": [
    "# Converting level based variables to numeric"
   ]
  },
  {
   "cell_type": "code",
   "execution_count": 127,
   "metadata": {
    "scrolled": true
   },
   "outputs": [],
   "source": [
    "# Map individual columns below to produce numeric values from unicode-based levels\n",
    "house['ExterQual'] = house['ExterQual'].map({'Gd': 4, 'TA': 3, 'Ex': 5, 'Fa': 2})\n",
    "house['ExterCond'] = house['ExterCond'].map({'Gd': 4, 'TA': 3, 'Ex': 5, 'Fa': 2, 'Po': 1})\n",
    "house['BsmtQual'] = house['BsmtQual'].map({'Gd': 4, 'TA': 3, 'Ex': 5, 'Fa': 2, 'Po': 1, np.nan: 0})\n",
    "house['BsmtCond'] = house['BsmtCond'].map({'Gd': 4, 'TA': 3, 'Ex': 5, 'Fa': 2, 'Po': 1, np.nan: 0})\n",
    "house['BsmtFinType1'] = house['BsmtFinType1'].map({'GLQ': 6, 'ALQ': 5, 'BLQ': 4, 'Rec': 3, 'LwQ':2, 'Unf': 1, np.nan: 0})\n",
    "house['HeatingQC'] = house['HeatingQC'].map({'Gd': 4, 'TA': 3, 'Ex': 5, 'Fa': 2, 'Po': 1, np.nan: 0})\n",
    "house['CentralAir'] = house['CentralAir'].map({'Y': 1, 'N': 0})\n",
    "house['KitchenQual'] = house['KitchenQual'].map({'Gd': 4, 'TA': 3, 'Ex': 5, 'Fa': 2, 'Po': 1, np.nan: 0})\n",
    "house['FireplaceQu'] = house['FireplaceQu'].map({'Gd': 4, 'TA': 3, 'Ex': 5, 'Fa': 2, 'Po': 1, np.nan: 0})\n",
    "house['GarageFinish'] = house['GarageFinish'].map({'Fin': 3, 'RFn': 2, 'Unf': 1, np.nan: 0})\n",
    "house['GarageQual'] = house['GarageQual'].map({'Gd': 4, 'TA': 3, 'Ex': 5, 'Fa': 2, 'Po': 1, np.nan: 0})\n",
    "house['GarageCond'] = house['GarageCond'].map({'Gd': 4, 'TA': 3, 'Ex': 5, 'Fa': 2, 'Po': 1, np.nan: 0})\n",
    "house['PoolQC'] = house['PoolQC'].map({'Gd': 4, 'TA': 3, 'Ex': 5, 'Fa': 2, 'Po': 1, np.nan: 0})\n",
    "house['Fence'] = house['Fence'].map({'MnPrv': 3, 'GdWo': 2, 'GdPrv': 4, 'MnWw': 1, np.nan: 0})\n",
    "house['LandSlope'] = house['LandSlope'].map({'Gtl': 1, 'Mod': 2, 'Sev': 3})\n",
    "house['BsmtExposure'] = house['BsmtExposure'].map({'Gd': 3,'Av': 2, 'Mn': 1,'No': 0, np.nan: 0})\n",
    "\n",
    "# Replace null values with 0\n",
    "house['LotFrontage'] = house['LotFrontage'].fillna(value=0)\n",
    "house['Alley'] = house['Alley'].fillna(value=0)\n",
    "house['MasVnrArea'].fillna(value=0, inplace=True)\n",
    "\n",
    "#Replace null garage yr built to that of structure built\n",
    "house['GarageYrBlt'].fillna(value=house['YearBuilt'], inplace=True)\n",
    "\n",
    "# Replace all remaining nulls with 0\n",
    "house = house.fillna(value=0)"
   ]
  },
  {
   "cell_type": "markdown",
   "metadata": {},
   "source": [
    "# The house Dataframe will be renamed and further split into the required datasets"
   ]
  },
  {
   "cell_type": "code",
   "execution_count": 274,
   "metadata": {
    "collapsed": true
   },
   "outputs": [],
   "source": [
    "# Make a copy of house and assign to df\n",
    "df = house.copy()\n",
    "\n",
    "# Split test and train data by years: pre-2010, 2010\n",
    "test = df[df['YrSold']==2010]\n",
    "train = df[df['YrSold']<2010]\n",
    "\n",
    "# Assign to traindf and testdf a filtered version of test and train data\n",
    "# of only residential properties\n",
    "traindf = train[(train['MSZon_Resi_FloatVillage']==1) | (train['MSZon_Resi_HighDensity']==1) | (train['MSZon_Resi_LowDensity']==1) | (train['MSZon_Resi_MedDensity']==1)]\n",
    "testdf = test[(test['MSZon_Resi_FloatVillage']==1) | (test['MSZon_Resi_HighDensity']==1) | (test['MSZon_Resi_LowDensity']==1) | (test['MSZon_Resi_MedDensity']==1)]"
   ]
  },
  {
   "cell_type": "markdown",
   "metadata": {},
   "source": [
    "## Residential Properties\n",
    "The dataset contains a number of categories of properties within the MSZoning variable. Residential properties start with an R, with options of RH, RL, RP, RM. We will separate those properties considered residential and place them in a separate dataframe"
   ]
  },
  {
   "cell_type": "code",
   "execution_count": 141,
   "metadata": {},
   "outputs": [
    {
     "name": "stdout",
     "output_type": "stream",
     "text": [
      "(1278, 252)\n",
      "(172, 252)\n"
     ]
    }
   ],
   "source": [
    "print(traindf.shape)\n",
    "print(testdf.shape)"
   ]
  },
  {
   "cell_type": "markdown",
   "metadata": {},
   "source": [
    "# Determination of Predictors\n",
    "## Fixed characteristics\n",
    "The characteristics of a house determined to be fixed will be run through a correlation matrix to determine predictors.\n",
    "\n",
    "\n",
    "### Converted to Dummy Variables\n",
    "* MSSubclass\n",
    "* MSZoning\n",
    "\n",
    "* LotShape\n",
    "* LandContour\n",
    "* Utilities\n",
    "* LotConfig\n",
    "* LandSlope\n",
    "* Neighborhood\n",
    "* Condition1\n",
    "* BldgType\n",
    "* HouseStyle\n",
    "* MasVnrType\n",
    "* Foundation\n",
    "* GarageType\n",
    "\n",
    "\n",
    "\n",
    "### Ordinary Variables\n",
    "* LotArea\n",
    "* LotFrontage\n",
    "* YearBuilt\n",
    "* MasVnrArea\n",
    "* BsmtExposure\n",
    "* TotalBsmtSF\n",
    "* 1stFlrSF\n",
    "* 2ndFlrSF\n",
    "* GrLivArea\n",
    "* BsmtFullBath\n",
    "* BsmtHalfBath\n",
    "* Bedroom\n",
    "* Kitchen\n",
    "* Fireplaces\n",
    "* GarageYrBlt\n",
    "* GarageCars\n",
    "* GarageArea\n",
    "* WoodDeckSF\n",
    "* OpenPorchSF\n",
    "* EnclosedPorch\n",
    "* 3SsnPorch\n",
    "* ScreenPorch\n",
    "* PoolArea\n",
    "\n",
    "We will begin by training a model with all variables, and see how this compares to a model using our heatmap variables."
   ]
  },
  {
   "cell_type": "code",
   "execution_count": 356,
   "metadata": {
    "collapsed": true
   },
   "outputs": [],
   "source": [
    "# Initialize training variables from heatmap analysis\n",
    "heatX_train = train.loc[:, ['OverallQual', 'YearBuilt', 'YearRemodAdd', 'TotalBsmtSF',\n",
    "                            '1stFlrSF', 'GrLivArea', 'FullBath', 'TotRmsAbvGrd', \n",
    "                            'Fireplaces', 'GarageYrBlt', 'GarageCars', 'GarageArea',\n",
    "                            'WoodDeckSF','OpenPorchSF', 'BsmtFinSF1', 'MasVnrArea',\n",
    "                            'LotFrontage', 'LotArea']]\n",
    "\n",
    "optiX_train = train.loc[:, ['OverallQual', 'YearBuilt', 'YearRemodAdd', '1stFlrSF',\n",
    "                          'GrLivArea','GarageCars', 'BsmtFinSF1', 'MasVnrArea', \n",
    "                          'LotArea']]\n",
    "# Initialize y_train\n",
    "y_train = train['SalePrice']"
   ]
  },
  {
   "cell_type": "code",
   "execution_count": 357,
   "metadata": {
    "collapsed": true
   },
   "outputs": [],
   "source": [
    "# Initialize test variables from heatmap analysis\n",
    "heatX_test = test.loc[:, ['OverallQual', 'YearBuilt', 'YearRemodAdd', 'TotalBsmtSF',\n",
    "                            '1stFlrSF', 'GrLivArea', 'FullBath', 'TotRmsAbvGrd', \n",
    "                            'Fireplaces', 'GarageYrBlt', 'GarageCars', 'GarageArea',\n",
    "                            'WoodDeckSF','OpenPorchSF', 'BsmtFinSF1', 'MasVnrArea',\n",
    "                            'LotFrontage', 'LotArea']]\n",
    "\n",
    "optiX_test = test.loc[:, ['OverallQual', 'YearBuilt', 'YearRemodAdd', '1stFlrSF',\n",
    "                          'GrLivArea','GarageCars', 'BsmtFinSF1', 'MasVnrArea', \n",
    "                          'LotArea']]\n",
    "\n",
    "# Initialize y_test\n",
    "y_test = test['SalePrice']"
   ]
  },
  {
   "cell_type": "markdown",
   "metadata": {},
   "source": [
    "## Note:\n",
    "In the next cell, run only one of the zscores (optimized or normal version)"
   ]
  },
  {
   "cell_type": "code",
   "execution_count": 358,
   "metadata": {},
   "outputs": [],
   "source": [
    "from scipy.stats import zscore\n",
    "\n",
    "# Standardize our train and test X \n",
    "standFixed = heatX_train.apply(zscore)\n",
    "standFixed_test = heatX_test.apply(zscore)\n",
    "\n",
    "# Standardize our optimized train and test X \n",
    "# standFixed = optiX_train.apply(zscore)\n",
    "# standFixed_test = optiX_test.apply(zscore)"
   ]
  },
  {
   "cell_type": "code",
   "execution_count": 359,
   "metadata": {},
   "outputs": [
    {
     "data": {
      "text/plain": [
       "ElasticNetCV(alphas=None, copy_X=True, cv=None, eps=0.001, fit_intercept=True,\n",
       "       l1_ratio=0.5, max_iter=1000, n_alphas=100, n_jobs=1,\n",
       "       normalize=False, positive=False, precompute='auto',\n",
       "       random_state=None, selection='cyclic', tol=0.0001, verbose=0)"
      ]
     },
     "execution_count": 359,
     "metadata": {},
     "output_type": "execute_result"
    }
   ],
   "source": [
    "from sklearn.linear_model import LinearRegression, Ridge, Lasso, ElasticNet, RidgeCV, LassoCV, ElasticNetCV\n",
    "from sklearn.ensemble import RandomForestRegressor, BaggingRegressor, GradientBoostingRegressor\n",
    "from sklearn.neighbors import KNeighborsRegressor\n",
    "\n",
    "# Instantiate our regression models\n",
    "model1 = LinearRegression()\n",
    "model2 = LassoCV()\n",
    "model3 = RidgeCV()\n",
    "model4 = ElasticNetCV()\n",
    "\n",
    "# Fit our models to our training data\n",
    "model1.fit(standFixed, y_train)\n",
    "model2.fit(standFixed, y_train)\n",
    "model3.fit(standFixed, y_train)\n",
    "model4.fit(standFixed, y_train)"
   ]
  },
  {
   "cell_type": "code",
   "execution_count": 360,
   "metadata": {
    "scrolled": false
   },
   "outputs": [
    {
     "name": "stdout",
     "output_type": "stream",
     "text": [
      "Linear Reg: 0.828721397027\n",
      "RMSE: 33200.1552446\n",
      "\n",
      "Lasso: 0.821460194245\n",
      "RMSE: 33896.5960187\n",
      "\n",
      "Ridge: 0.829451924917\n",
      "RMSE: 33129.2778683\n",
      "\n",
      "ElasticNet: 0.136014389754\n",
      "RMSE: 74566.1659625\n",
      "\n"
     ]
    }
   ],
   "source": [
    "# Heatmap Model Score\n",
    "from sklearn.metrics import mean_squared_error\n",
    "\n",
    "print('Linear Reg: {}\\nRMSE: {}\\n'.format(model1.score(standFixed_test, y_test), \n",
    "                                        np.sqrt(mean_squared_error(y_test, model1.predict(standFixed_test)))))\n",
    "print('Lasso: {}\\nRMSE: {}\\n'.format(model2.score(standFixed_test, y_test), \n",
    "                                        np.sqrt(mean_squared_error(y_test, model2.predict(standFixed_test)))))\n",
    "print('Ridge: {}\\nRMSE: {}\\n'.format(model3.score(standFixed_test, y_test), \n",
    "                                        np.sqrt(mean_squared_error(y_test, model3.predict(standFixed_test)))))\n",
    "print('ElasticNet: {}\\nRMSE: {}\\n'.format(model4.score(standFixed_test, y_test), \n",
    "                                        np.sqrt(mean_squared_error(y_test, model4.predict(standFixed_test)))))"
   ]
  },
  {
   "cell_type": "code",
   "execution_count": 329,
   "metadata": {},
   "outputs": [
    {
     "name": "stdout",
     "output_type": "stream",
     "text": [
      "Linear Reg: 0.825409853077\n",
      "RMSE: 33519.5688409\n",
      "\n",
      "Lasso: 0.825192985724\n",
      "RMSE: 33540.3805656\n",
      "\n",
      "Ridge: 0.825516078208\n",
      "RMSE: 33509.3702059\n",
      "\n",
      "ElasticNet: 0.0842423827444\n",
      "RMSE: 76767.7528999\n",
      "\n"
     ]
    }
   ],
   "source": [
    "# Optimized Model Score\n",
    "from sklearn.metrics import mean_squared_error\n",
    "\n",
    "print('Linear Reg: {}\\nRMSE: {}\\n'.format(model1.score(standFixed_test, y_test), \n",
    "                                        np.sqrt(mean_squared_error(y_test, model1.predict(standFixed_test)))))\n",
    "print('Lasso: {}\\nRMSE: {}\\n'.format(model2.score(standFixed_test, y_test), \n",
    "                                        np.sqrt(mean_squared_error(y_test, model2.predict(standFixed_test)))))\n",
    "print('Ridge: {}\\nRMSE: {}\\n'.format(model3.score(standFixed_test, y_test), \n",
    "                                        np.sqrt(mean_squared_error(y_test, model3.predict(standFixed_test)))))\n",
    "print('ElasticNet: {}\\nRMSE: {}\\n'.format(model4.score(standFixed_test, y_test), \n",
    "                                        np.sqrt(mean_squared_error(y_test, model4.predict(standFixed_test)))))"
   ]
  },
  {
   "cell_type": "markdown",
   "metadata": {},
   "source": [
    "## Recursive Feature Elimination\n",
    "We will try to use RFE to attempt to improve our model through feature selection.\n",
    "\n",
    "When testing with the reduced features, the models did not improve in accuracy. As a result, we will attempt to improve our heatmap feature model using gridsearch below"
   ]
  },
  {
   "cell_type": "code",
   "execution_count": 315,
   "metadata": {
    "scrolled": false
   },
   "outputs": [
    {
     "name": "stdout",
     "output_type": "stream",
     "text": [
      "[ True  True  True False  True  True False False False False  True False\n",
      " False False  True  True False  True]\n",
      "[ 1  1  1  4  1  1 10  7  2  6  1  5  3  9  1  1  8  1]\n"
     ]
    },
    {
     "data": {
      "text/plain": [
       "array(['OverallQual', 'YearBuilt', 'YearRemodAdd', '1stFlrSF', 'GrLivArea',\n",
       "       'GarageCars', 'BsmtFinSF1', 'MasVnrArea', 'LotArea'], dtype=object)"
      ]
     },
     "execution_count": 315,
     "metadata": {},
     "output_type": "execute_result"
    }
   ],
   "source": [
    "from sklearn.feature_selection import RFE\n",
    "\n",
    "# Fit RFE to current model\n",
    "rfe = RFE(model3)\n",
    "rfe = rfe.fit(standFixed, y_train)\n",
    "\n",
    "# Print results of RFE\n",
    "print(rfe.support_)\n",
    "print(rfe.ranking_)\n",
    "standFixed.columns[rfe.support_].values"
   ]
  },
  {
   "cell_type": "markdown",
   "metadata": {},
   "source": [
    "# Use of GridSearch to improve parameters of model\n",
    "* Results of GridSearch.best_params_ used above"
   ]
  },
  {
   "cell_type": "code",
   "execution_count": 313,
   "metadata": {},
   "outputs": [],
   "source": [
    "from sklearn.model_selection import GridSearchCV\n",
    "\n",
    "params = {\n",
    "    # params for Ridge\n",
    "    'cv': [None, 2, 3, 4, 5, 6]\n",
    "    \n",
    "}\n",
    "\n",
    "search = GridSearchCV(model3, params, n_jobs=3)"
   ]
  },
  {
   "cell_type": "code",
   "execution_count": 314,
   "metadata": {},
   "outputs": [
    {
     "data": {
      "text/plain": [
       "GridSearchCV(cv=None, error_score='raise',\n",
       "       estimator=RidgeCV(alphas=(0.1, 1.0, 10.0), cv=None, fit_intercept=True, gcv_mode=None,\n",
       "    normalize=False, scoring=None, store_cv_values=False),\n",
       "       fit_params=None, iid=True, n_jobs=3,\n",
       "       param_grid={'cv': [None, 2, 3, 4, 5, 6]}, pre_dispatch='2*n_jobs',\n",
       "       refit=True, return_train_score=True, scoring=None, verbose=0)"
      ]
     },
     "execution_count": 314,
     "metadata": {},
     "output_type": "execute_result"
    }
   ],
   "source": [
    "search.fit(standFixed, y_train)"
   ]
  },
  {
   "cell_type": "code",
   "execution_count": 308,
   "metadata": {},
   "outputs": [
    {
     "name": "stdout",
     "output_type": "stream",
     "text": [
      "{'cv': None}\n",
      "0.761546985071\n"
     ]
    }
   ],
   "source": [
    "# Print results of Gridsearch for use\n",
    "print(search.best_params_)\n",
    "print(search.best_score_)"
   ]
  },
  {
   "cell_type": "markdown",
   "metadata": {},
   "source": [
    "## Results\n",
    "Using gridsearch, we were recommended to keep our parameters as is. \n",
    "\n",
    "As a result, we will proceed with our original heatmap model using Ridge Cross Validated Regression. With this, we were able to achieve the scores below (82.94%)"
   ]
  },
  {
   "cell_type": "code",
   "execution_count": 361,
   "metadata": {},
   "outputs": [
    {
     "name": "stdout",
     "output_type": "stream",
     "text": [
      "Ridge: 0.829451924917\n",
      "RMSE: 33129.2778683\n",
      "\n",
      "All scores: [ 0.79354938  0.81339641  0.85778876]\n",
      " Mean:0.821578185466\n"
     ]
    }
   ],
   "source": [
    "# Import score packages\n",
    "from sklearn.model_selection import cross_val_score\n",
    "from sklearn.metrics import mean_squared_error\n",
    "\n",
    "# Print r2 score and RMSE\n",
    "print('Ridge: {}\\nRMSE: {}\\n'.format(model3.score(standFixed_test, y_test), \n",
    "                                        np.sqrt(mean_squared_error(y_test, model3.predict(standFixed_test)))))\n",
    "\n",
    "\n",
    "# Calculate cross val score and mean\n",
    "scores = cross_val_score(model3,standFixed_test,y=y_test)\n",
    "print('All scores: {}\\n Mean:{}'.format(scores, scores.mean()))"
   ]
  },
  {
   "cell_type": "markdown",
   "metadata": {},
   "source": [
    "Using the above parameters for our gradient boosting regressor, we were able to improve our model. It now performs with a 88.68% r2 score."
   ]
  },
  {
   "cell_type": "markdown",
   "metadata": {},
   "source": [
    "<img src=\"http://imgur.com/l5NasQj.png\" style=\"float: left; margin: 25px 15px 0px 0px; height: 25px\">\n",
    "\n",
    "## 2. Determine any value of *changeable* property characteristics unexplained by the *fixed* ones.\n",
    "\n",
    "---\n",
    "\n",
    "Now that you have a model that estimates the price of a house based on its static characteristics, we can move forward with part 2 and 3 of the plan: what are the costs/benefits of quality, condition, and renovations?\n",
    "\n",
    "There are two specific requirements for these estimates:\n",
    "1. The estimates of effects must be in terms of dollars added or subtracted from the house value. \n",
    "2. The effects must be on the variance in price remaining from the first model.\n",
    "\n",
    "The residuals from the first model (training and testing) represent the variance in price unexplained by the fixed characteristics. Of that variance in price remaining, how much of it can be explained by the easy-to-change aspects of the property?\n",
    "\n",
    "---\n",
    "\n",
    "**Your goals:**\n",
    "1. Evaluate the effect in dollars of the renovate-able features. \n",
    "- How would your company use this second model and its coefficients to determine whether they should buy a property or not? Explain how the company can use the two models you have built to determine if they can make money. \n",
    "- Investigate how much of the variance in price remaining is explained by these features.\n",
    "- Do you trust your model? Should it be used to evaluate which properties to buy and fix up?"
   ]
  },
  {
   "cell_type": "markdown",
   "metadata": {},
   "source": [
    "## Renovate-able characteristics\n",
    "* OverallQual\n",
    "* OverallCond\n",
    "* ExterQual\n",
    "* ExterCond\n",
    "* BsmtQual\n",
    "* BsmtCond\n",
    "* BsmtFinType1\n",
    "* Heating\n",
    "* HeatingQC\n",
    "* CentralAir\n",
    "* Electrical : Dummy Variables\n",
    "* KitchenQual\n",
    "* Functional :Dummy\n",
    "* FireplaceQu\n",
    "* GarageFinish\n",
    "* GarageQual\n",
    "* GarageCond\n",
    "* PavedDrive : Dummy\n",
    "* PoolQC\n",
    "* Fence\n",
    "* TotRmsAbvGrd\n",
    "* FullBath\n",
    "* HalfBath\n",
    "* RoofStyle\n",
    "* RoofMatl\n",
    "* Exterior1st"
   ]
  },
  {
   "cell_type": "markdown",
   "metadata": {},
   "source": [
    "## Residuals\n",
    "We will begin by calculating our residuals for both our training and testing set. \n",
    "\n",
    "We will generate the predicted values for our target for both sets and find the difference with the actual values.\n",
    "\n",
    "We will then use the renovatable characteristics of a house to build a model to predict the residuals."
   ]
  },
  {
   "cell_type": "code",
   "execution_count": 363,
   "metadata": {
    "scrolled": true
   },
   "outputs": [
    {
     "data": {
      "text/plain": [
       "33129.277868251767"
      ]
     },
     "execution_count": 363,
     "metadata": {},
     "output_type": "execute_result"
    }
   ],
   "source": [
    "# Generate predicted value based on model\n",
    "y_pred = model3.predict(standFixed_test)\n",
    "\n",
    "# Generate predicted value of train set\n",
    "y_prev = model3.predict(standFixed)\n",
    "\n",
    "# Root mean squared error\n",
    "np.sqrt(mean_squared_error(y_test, y_pred))"
   ]
  },
  {
   "cell_type": "markdown",
   "metadata": {},
   "source": [
    "# Calculation of y_hat (residuals)"
   ]
  },
  {
   "cell_type": "code",
   "execution_count": 364,
   "metadata": {},
   "outputs": [
    {
     "data": {
      "text/plain": [
       "(175, 253)"
      ]
     },
     "execution_count": 364,
     "metadata": {},
     "output_type": "execute_result"
    }
   ],
   "source": [
    "test.shape"
   ]
  },
  {
   "cell_type": "code",
   "execution_count": 365,
   "metadata": {
    "scrolled": true
   },
   "outputs": [],
   "source": [
    "y_hat = y_test-y_pred\n",
    "oldy_hat = y_train-y_prev"
   ]
  },
  {
   "cell_type": "code",
   "execution_count": 366,
   "metadata": {},
   "outputs": [
    {
     "name": "stdout",
     "output_type": "stream",
     "text": [
      "(175,)\n",
      "(1285,)\n"
     ]
    }
   ],
   "source": [
    "print(y_hat.shape)\n",
    "print(oldy_hat.shape)"
   ]
  },
  {
   "cell_type": "markdown",
   "metadata": {},
   "source": [
    "Now we will assign the residuals to their relative tables as a new column"
   ]
  },
  {
   "cell_type": "code",
   "execution_count": 367,
   "metadata": {},
   "outputs": [
    {
     "name": "stderr",
     "output_type": "stream",
     "text": [
      "/Users/d/anaconda/lib/python2.7/site-packages/ipykernel/__main__.py:1: SettingWithCopyWarning: \n",
      "A value is trying to be set on a copy of a slice from a DataFrame.\n",
      "Try using .loc[row_indexer,col_indexer] = value instead\n",
      "\n",
      "See the caveats in the documentation: http://pandas.pydata.org/pandas-docs/stable/indexing.html#indexing-view-versus-copy\n",
      "  if __name__ == '__main__':\n",
      "/Users/d/anaconda/lib/python2.7/site-packages/ipykernel/__main__.py:2: SettingWithCopyWarning: \n",
      "A value is trying to be set on a copy of a slice from a DataFrame.\n",
      "Try using .loc[row_indexer,col_indexer] = value instead\n",
      "\n",
      "See the caveats in the documentation: http://pandas.pydata.org/pandas-docs/stable/indexing.html#indexing-view-versus-copy\n",
      "  from ipykernel import kernelapp as app\n"
     ]
    }
   ],
   "source": [
    "train['Residuals'] = oldy_hat\n",
    "test['Residuals'] = y_hat"
   ]
  },
  {
   "cell_type": "code",
   "execution_count": 368,
   "metadata": {
    "collapsed": true
   },
   "outputs": [],
   "source": [
    "residuals = pd.DataFrame(y_hat)\n",
    "residuals.rename(columns={'SalePrice': 'Residuals'}, inplace=True)"
   ]
  },
  {
   "cell_type": "code",
   "execution_count": 369,
   "metadata": {
    "scrolled": true
   },
   "outputs": [
    {
     "data": {
      "text/plain": [
       "(175, 1)"
      ]
     },
     "execution_count": 369,
     "metadata": {},
     "output_type": "execute_result"
    }
   ],
   "source": [
    "residuals.shape"
   ]
  },
  {
   "cell_type": "markdown",
   "metadata": {},
   "source": [
    "## Residual Plot"
   ]
  },
  {
   "cell_type": "code",
   "execution_count": 370,
   "metadata": {},
   "outputs": [
    {
     "data": {
      "text/plain": [
       "<matplotlib.axes._subplots.AxesSubplot at 0x11de65590>"
      ]
     },
     "execution_count": 370,
     "metadata": {},
     "output_type": "execute_result"
    },
    {
     "data": {
      "image/png": "[encoded data removed]",
      "text/plain": [
       "<matplotlib.figure.Figure at 0x120c55890>"
      ]
     },
     "metadata": {
      "image/png": {
       "height": 248,
       "width": 409
      }
     },
     "output_type": "display_data"
    }
   ],
   "source": [
    "sns.residplot(x=y_pred, y=y_test, data=residuals)"
   ]
  },
  {
   "cell_type": "markdown",
   "metadata": {},
   "source": [
    "# Declare train and test variables"
   ]
  },
  {
   "cell_type": "code",
   "execution_count": 417,
   "metadata": {},
   "outputs": [],
   "source": [
    "# Assign renovatable characteristics to renoX_train and renoX_test\n",
    "renoX_train = train.loc[:,['FireplaceQu','GarageFinish','GarageQual', 'GarageCond', 'PoolQC',\n",
    "                         'ExterQual', 'ExterCond','BsmtQual', 'BsmtCond','BsmtFinType1','Heatg_Floor', 'Heatg_GasA', \n",
    "                         'Heatg_GasW', 'Heatg_Grav','Heatg_OthW', 'Heatg_Wall','HeatingQC','CentralAir', 'Elec_FuseA',\n",
    "                         'Elec_FuseF', 'Elec_FuseP', 'Elec_Mix','Elec_SBrkr','KitchenQual', 'Func_Maj1', 'Func_Maj2', \n",
    "                         'Func_Min1', 'Func_Min2','Func_Mod', 'Func_Sev', 'Func_Typ','Paved_DirtGrav','Paved_part', \n",
    "                         'Paved_paved', 'Fence', 'TotRmsAbvGrd','FullBath', 'HalfBath','RoofStyle_Flat', \n",
    "                         'RoofStyle_Gable','RoofStyle_Gambrel', 'RoofStyle_Hip', 'RoofStyle_Mansard','RoofStyle_Shed',\n",
    "                         'RoofMatl_ClyTile', 'RoofMatl_CompShg','RoofMatl_Membran', 'RoofMatl_Metal', 'RoofMatl_Roll',\n",
    "                         'RoofMatl_Tar&Grv', 'RoofMatl_WdShake', 'RoofMatl_WdShngl','Exter1_AsbShng', 'Exter1_AsphShn',\n",
    "                         'Exter1_BrkComm','Exter1_BrkFace', 'Exter1_CBlock','Exter1_CemntBd','Exter1_HdBoard', \n",
    "                         'Exter1_ImStucc', 'Exter1_MetalSd','Exter1_Plywood', 'Exter1_Stone', 'Exter1_Stucco', \n",
    "                         'Exter1_VinylSd','Exter1_Wd Sdng', 'Exter1_WdShing']]\n",
    "\n",
    "renoX_test = test.loc[:,['FireplaceQu','GarageFinish','GarageQual', 'GarageCond', 'PoolQC',\n",
    "                         'ExterQual', 'ExterCond','BsmtQual', 'BsmtCond','BsmtFinType1','Heatg_Floor', 'Heatg_GasA', \n",
    "                         'Heatg_GasW', 'Heatg_Grav','Heatg_OthW', 'Heatg_Wall','HeatingQC','CentralAir', 'Elec_FuseA',\n",
    "                         'Elec_FuseF', 'Elec_FuseP', 'Elec_Mix','Elec_SBrkr','KitchenQual', 'Func_Maj1', 'Func_Maj2', \n",
    "                         'Func_Min1', 'Func_Min2','Func_Mod', 'Func_Sev', 'Func_Typ','Paved_DirtGrav','Paved_part', \n",
    "                         'Paved_paved', 'Fence', 'TotRmsAbvGrd','FullBath', 'HalfBath','RoofStyle_Flat', \n",
    "                         'RoofStyle_Gable','RoofStyle_Gambrel', 'RoofStyle_Hip', 'RoofStyle_Mansard','RoofStyle_Shed',\n",
    "                         'RoofMatl_ClyTile', 'RoofMatl_CompShg','RoofMatl_Membran', 'RoofMatl_Metal', 'RoofMatl_Roll',\n",
    "                         'RoofMatl_Tar&Grv', 'RoofMatl_WdShake', 'RoofMatl_WdShngl','Exter1_AsbShng', 'Exter1_AsphShn',\n",
    "                         'Exter1_BrkComm','Exter1_BrkFace', 'Exter1_CBlock','Exter1_CemntBd','Exter1_HdBoard', \n",
    "                         'Exter1_ImStucc', 'Exter1_MetalSd','Exter1_Plywood', 'Exter1_Stone', 'Exter1_Stucco', \n",
    "                         'Exter1_VinylSd','Exter1_Wd Sdng', 'Exter1_WdShing']]\n",
    "\n",
    "renoY_train = train['Residuals'].reset_index(drop=True)\n",
    "\n",
    "renoY_test = test['Residuals'].reset_index(drop=True)"
   ]
  },
  {
   "cell_type": "code",
   "execution_count": 418,
   "metadata": {
    "collapsed": true
   },
   "outputs": [],
   "source": [
    "from scipy.stats import zscore\n",
    "\n",
    "# Standardize our train and test X (we will also fill na as there was an issue with column\n",
    "# 'Exter1_AsphShn')\n",
    "renoX_train = renoX_train.apply(zscore).fillna(0)\n",
    "renoX_test = renoX_test.apply(zscore).fillna(0)"
   ]
  },
  {
   "cell_type": "code",
   "execution_count": 398,
   "metadata": {},
   "outputs": [
    {
     "name": "stdout",
     "output_type": "stream",
     "text": [
      "(1285,)\n",
      "(1285, 69)\n",
      "(175,)\n",
      "(175, 69)\n",
      "(1285, 69)\n",
      "(175, 69)\n"
     ]
    }
   ],
   "source": [
    "# renoX_train, renoY_train\n",
    "# renoX_test, renoY_test\n",
    "print(renoY_train.shape)\n",
    "print(renoX_train.shape)\n",
    "print(renoY_test.shape)\n",
    "print(renoX_test.shape)\n",
    "print(standFixed.shape)\n",
    "print(standFixed_test.shape)"
   ]
  },
  {
   "cell_type": "code",
   "execution_count": 419,
   "metadata": {},
   "outputs": [
    {
     "data": {
      "text/plain": [
       "ElasticNetCV(alphas=None, copy_X=True, cv=None, eps=0.001, fit_intercept=True,\n",
       "       l1_ratio=0.5, max_iter=1000, n_alphas=100, n_jobs=1,\n",
       "       normalize=False, positive=False, precompute='auto',\n",
       "       random_state=None, selection='cyclic', tol=0.0001, verbose=0)"
      ]
     },
     "execution_count": 419,
     "metadata": {},
     "output_type": "execute_result"
    }
   ],
   "source": [
    "from sklearn.linear_model import LinearRegression, Ridge, Lasso, ElasticNet, RidgeCV, LassoCV, ElasticNetCV\n",
    "from sklearn.ensemble import RandomForestRegressor, BaggingRegressor, GradientBoostingRegressor\n",
    "from sklearn.neighbors import KNeighborsRegressor\n",
    "\n",
    "# Instantiate our regression models\n",
    "model1 = LinearRegression()\n",
    "model2 = LassoCV()\n",
    "model3 = RidgeCV()\n",
    "model4 = ElasticNetCV()\n",
    "\n",
    "# Fit our models to our training data\n",
    "model1.fit(renoX_train, renoY_train)\n",
    "model2.fit(renoX_train, renoY_train)\n",
    "model3.fit(renoX_train, renoY_train)\n",
    "model4.fit(renoX_train, renoY_train)"
   ]
  },
  {
   "cell_type": "code",
   "execution_count": 420,
   "metadata": {
    "scrolled": false
   },
   "outputs": [
    {
     "name": "stdout",
     "output_type": "stream",
     "text": [
      "Linear Reg: -8.55140009019e+19\n",
      "RMSE: 3.04108797582e+14\n",
      "\n",
      "Lasso: 0.0907723045754\n",
      "RMSE: 31357.8803776\n",
      "\n",
      "Ridge: 0.0932949963828\n",
      "RMSE: 31314.3482593\n",
      "\n",
      "ElasticNet: 0.00511393739352\n",
      "RMSE: 32801.7522793\n",
      "\n"
     ]
    }
   ],
   "source": [
    "# Heatmap Model Score\n",
    "from sklearn.metrics import mean_squared_error\n",
    "\n",
    "print('Linear Reg: {}\\nRMSE: {}\\n'.format(model1.score(renoX_test, renoY_test), \n",
    "                                        np.sqrt(mean_squared_error(renoY_test, model1.predict(renoX_test)))))\n",
    "print('Lasso: {}\\nRMSE: {}\\n'.format(model2.score(renoX_test, renoY_test), \n",
    "                                        np.sqrt(mean_squared_error(renoY_test, model2.predict(renoX_test)))))\n",
    "print('Ridge: {}\\nRMSE: {}\\n'.format(model3.score(renoX_test, renoY_test), \n",
    "                                        np.sqrt(mean_squared_error(renoY_test, model3.predict(renoX_test)))))\n",
    "print('ElasticNet: {}\\nRMSE: {}\\n'.format(model4.score(renoX_test, renoY_test), \n",
    "                                        np.sqrt(mean_squared_error(renoY_test, model4.predict(renoX_test)))))"
   ]
  },
  {
   "cell_type": "markdown",
   "metadata": {},
   "source": [
    "# Model Built to Account for Residuals\n",
    "### Goal was to build a model based on renovatable features to predict whether residuals (errors) of previous model can be accounted for\n",
    "\n",
    "* The best performing Model's score (above) is 9.07%. This is a reasonable score, meaning 9.07% of the residuals can be explained.\n",
    "* This could potentially indicate that renovatable features only account for a maximum of 9.07% of changes in price.\n",
    "\n",
    "* This indicates that the rest of the residuals may be irreducible. "
   ]
  },
  {
   "cell_type": "markdown",
   "metadata": {},
   "source": [
    "# Determining Dollar Value\n",
    "* We only have access to the dollar value of misc features\n",
    "* They are grouped below and presented with the mean of their values"
   ]
  },
  {
   "cell_type": "code",
   "execution_count": 141,
   "metadata": {
    "scrolled": true
   },
   "outputs": [
    {
     "data": {
      "text/plain": [
       "MiscFeature\n",
       "Gar2     2\n",
       "Othr     2\n",
       "Shed    49\n",
       "TenC     1\n",
       "Name: MiscVal, dtype: int64"
      ]
     },
     "execution_count": 141,
     "metadata": {},
     "output_type": "execute_result"
    }
   ],
   "source": [
    "df.groupby('MiscFeature')['MiscVal'].count()"
   ]
  },
  {
   "cell_type": "code",
   "execution_count": 140,
   "metadata": {
    "scrolled": true
   },
   "outputs": [
    {
     "data": {
      "text/plain": [
       "MiscFeature\n",
       "Gar2    11900.000000\n",
       "Othr     1750.000000\n",
       "Shed      697.836735\n",
       "TenC     2000.000000\n",
       "Name: MiscVal, dtype: float64"
      ]
     },
     "execution_count": 140,
     "metadata": {},
     "output_type": "execute_result"
    }
   ],
   "source": [
    "df.groupby('MiscFeature')['MiscVal'].mean()"
   ]
  },
  {
   "cell_type": "code",
   "execution_count": 147,
   "metadata": {},
   "outputs": [
    {
     "data": {
      "text/html": [
       "<div>\n",
       "<style>\n",
       "    .dataframe thead tr:only-child th {\n",
       "        text-align: right;\n",
       "    }\n",
       "\n",
       "    .dataframe thead th {\n",
       "        text-align: left;\n",
       "    }\n",
       "\n",
       "    .dataframe tbody tr th {\n",
       "        vertical-align: top;\n",
       "    }\n",
       "</style>\n",
       "<table border=\"1\" class=\"dataframe\">\n",
       "  <thead>\n",
       "    <tr style=\"text-align: right;\">\n",
       "      <th></th>\n",
       "      <th>MiscFeature</th>\n",
       "      <th>MiscVal</th>\n",
       "    </tr>\n",
       "  </thead>\n",
       "  <tbody>\n",
       "    <tr>\n",
       "      <th>705</th>\n",
       "      <td>Othr</td>\n",
       "      <td>3500</td>\n",
       "    </tr>\n",
       "    <tr>\n",
       "      <th>873</th>\n",
       "      <td>Othr</td>\n",
       "      <td>0</td>\n",
       "    </tr>\n",
       "  </tbody>\n",
       "</table>\n",
       "</div>"
      ],
      "text/plain": [
       "    MiscFeature  MiscVal\n",
       "705        Othr     3500\n",
       "873        Othr        0"
      ]
     },
     "execution_count": 147,
     "metadata": {},
     "output_type": "execute_result"
    }
   ],
   "source": [
    "df[['MiscFeature','MiscVal']][df['MiscFeature']=='Othr']"
   ]
  },
  {
   "cell_type": "markdown",
   "metadata": {},
   "source": [
    "# Miscellaneous Value\n",
    "* Garage 2 is seen as the most valuable, with a value of \\$11,900\n",
    "* Tennis court is valued at approx. \\$2000 (Only one case)\n",
    "* Shed is approximately valued at \\$698.00\n",
    "* Others have 2 values, with one at \\$3500 and the other at \\$0"
   ]
  },
  {
   "cell_type": "code",
   "execution_count": 421,
   "metadata": {},
   "outputs": [],
   "source": [
    "featcoefs = pd.DataFrame({'Features': renoX_train.columns.values, 'Coefs': model3.coef_})"
   ]
  },
  {
   "cell_type": "code",
   "execution_count": 425,
   "metadata": {
    "scrolled": true
   },
   "outputs": [
    {
     "data": {
      "text/html": [
       "<div>\n",
       "<style>\n",
       "    .dataframe thead tr:only-child th {\n",
       "        text-align: right;\n",
       "    }\n",
       "\n",
       "    .dataframe thead th {\n",
       "        text-align: left;\n",
       "    }\n",
       "\n",
       "    .dataframe tbody tr th {\n",
       "        vertical-align: top;\n",
       "    }\n",
       "</style>\n",
       "<table border=\"1\" class=\"dataframe\">\n",
       "  <thead>\n",
       "    <tr style=\"text-align: right;\">\n",
       "      <th></th>\n",
       "      <th>Features</th>\n",
       "      <th>Coefs</th>\n",
       "    </tr>\n",
       "  </thead>\n",
       "  <tbody>\n",
       "    <tr>\n",
       "      <th>51</th>\n",
       "      <td>RoofMatl_WdShngl</td>\n",
       "      <td>5206.688935</td>\n",
       "    </tr>\n",
       "    <tr>\n",
       "      <th>4</th>\n",
       "      <td>PoolQC</td>\n",
       "      <td>4460.499387</td>\n",
       "    </tr>\n",
       "    <tr>\n",
       "      <th>7</th>\n",
       "      <td>BsmtQual</td>\n",
       "      <td>4195.001478</td>\n",
       "    </tr>\n",
       "    <tr>\n",
       "      <th>55</th>\n",
       "      <td>Exter1_BrkFace</td>\n",
       "      <td>3378.397021</td>\n",
       "    </tr>\n",
       "    <tr>\n",
       "      <th>5</th>\n",
       "      <td>ExterQual</td>\n",
       "      <td>3024.427026</td>\n",
       "    </tr>\n",
       "    <tr>\n",
       "      <th>23</th>\n",
       "      <td>KitchenQual</td>\n",
       "      <td>2942.431668</td>\n",
       "    </tr>\n",
       "    <tr>\n",
       "      <th>9</th>\n",
       "      <td>BsmtFinType1</td>\n",
       "      <td>2159.705263</td>\n",
       "    </tr>\n",
       "    <tr>\n",
       "      <th>38</th>\n",
       "      <td>RoofStyle_Flat</td>\n",
       "      <td>1898.323405</td>\n",
       "    </tr>\n",
       "    <tr>\n",
       "      <th>52</th>\n",
       "      <td>Exter1_AsbShng</td>\n",
       "      <td>1809.661333</td>\n",
       "    </tr>\n",
       "    <tr>\n",
       "      <th>35</th>\n",
       "      <td>TotRmsAbvGrd</td>\n",
       "      <td>1784.852815</td>\n",
       "    </tr>\n",
       "    <tr>\n",
       "      <th>30</th>\n",
       "      <td>Func_Typ</td>\n",
       "      <td>1592.146837</td>\n",
       "    </tr>\n",
       "    <tr>\n",
       "      <th>60</th>\n",
       "      <td>Exter1_MetalSd</td>\n",
       "      <td>1532.027822</td>\n",
       "    </tr>\n",
       "    <tr>\n",
       "      <th>10</th>\n",
       "      <td>Heatg_Floor</td>\n",
       "      <td>1262.638369</td>\n",
       "    </tr>\n",
       "    <tr>\n",
       "      <th>16</th>\n",
       "      <td>HeatingQC</td>\n",
       "      <td>1234.753552</td>\n",
       "    </tr>\n",
       "    <tr>\n",
       "      <th>15</th>\n",
       "      <td>Heatg_Wall</td>\n",
       "      <td>1160.015145</td>\n",
       "    </tr>\n",
       "    <tr>\n",
       "      <th>46</th>\n",
       "      <td>RoofMatl_Membran</td>\n",
       "      <td>1155.599705</td>\n",
       "    </tr>\n",
       "    <tr>\n",
       "      <th>45</th>\n",
       "      <td>RoofMatl_CompShg</td>\n",
       "      <td>1119.807386</td>\n",
       "    </tr>\n",
       "    <tr>\n",
       "      <th>56</th>\n",
       "      <td>Exter1_CBlock</td>\n",
       "      <td>882.784712</td>\n",
       "    </tr>\n",
       "    <tr>\n",
       "      <th>13</th>\n",
       "      <td>Heatg_Grav</td>\n",
       "      <td>852.849778</td>\n",
       "    </tr>\n",
       "    <tr>\n",
       "      <th>41</th>\n",
       "      <td>RoofStyle_Hip</td>\n",
       "      <td>771.341443</td>\n",
       "    </tr>\n",
       "    <tr>\n",
       "      <th>57</th>\n",
       "      <td>Exter1_CemntBd</td>\n",
       "      <td>623.962103</td>\n",
       "    </tr>\n",
       "    <tr>\n",
       "      <th>32</th>\n",
       "      <td>Paved_part</td>\n",
       "      <td>582.668832</td>\n",
       "    </tr>\n",
       "    <tr>\n",
       "      <th>62</th>\n",
       "      <td>Exter1_Stone</td>\n",
       "      <td>577.169558</td>\n",
       "    </tr>\n",
       "    <tr>\n",
       "      <th>42</th>\n",
       "      <td>RoofStyle_Mansard</td>\n",
       "      <td>575.622491</td>\n",
       "    </tr>\n",
       "    <tr>\n",
       "      <th>65</th>\n",
       "      <td>Exter1_Wd Sdng</td>\n",
       "      <td>505.902695</td>\n",
       "    </tr>\n",
       "    <tr>\n",
       "      <th>27</th>\n",
       "      <td>Func_Min2</td>\n",
       "      <td>481.153735</td>\n",
       "    </tr>\n",
       "    <tr>\n",
       "      <th>17</th>\n",
       "      <td>CentralAir</td>\n",
       "      <td>331.601865</td>\n",
       "    </tr>\n",
       "    <tr>\n",
       "      <th>47</th>\n",
       "      <td>RoofMatl_Metal</td>\n",
       "      <td>292.253553</td>\n",
       "    </tr>\n",
       "    <tr>\n",
       "      <th>6</th>\n",
       "      <td>ExterCond</td>\n",
       "      <td>291.635074</td>\n",
       "    </tr>\n",
       "    <tr>\n",
       "      <th>11</th>\n",
       "      <td>Heatg_GasA</td>\n",
       "      <td>70.248095</td>\n",
       "    </tr>\n",
       "    <tr>\n",
       "      <th>...</th>\n",
       "      <td>...</td>\n",
       "      <td>...</td>\n",
       "    </tr>\n",
       "    <tr>\n",
       "      <th>59</th>\n",
       "      <td>Exter1_ImStucc</td>\n",
       "      <td>-133.340080</td>\n",
       "    </tr>\n",
       "    <tr>\n",
       "      <th>54</th>\n",
       "      <td>Exter1_BrkComm</td>\n",
       "      <td>-158.561190</td>\n",
       "    </tr>\n",
       "    <tr>\n",
       "      <th>37</th>\n",
       "      <td>HalfBath</td>\n",
       "      <td>-164.499768</td>\n",
       "    </tr>\n",
       "    <tr>\n",
       "      <th>49</th>\n",
       "      <td>RoofMatl_Tar&amp;Grv</td>\n",
       "      <td>-229.552054</td>\n",
       "    </tr>\n",
       "    <tr>\n",
       "      <th>31</th>\n",
       "      <td>Paved_DirtGrav</td>\n",
       "      <td>-412.085751</td>\n",
       "    </tr>\n",
       "    <tr>\n",
       "      <th>12</th>\n",
       "      <td>Heatg_GasW</td>\n",
       "      <td>-482.289708</td>\n",
       "    </tr>\n",
       "    <tr>\n",
       "      <th>43</th>\n",
       "      <td>RoofStyle_Shed</td>\n",
       "      <td>-588.148611</td>\n",
       "    </tr>\n",
       "    <tr>\n",
       "      <th>21</th>\n",
       "      <td>Elec_Mix</td>\n",
       "      <td>-627.446581</td>\n",
       "    </tr>\n",
       "    <tr>\n",
       "      <th>0</th>\n",
       "      <td>FireplaceQu</td>\n",
       "      <td>-650.665495</td>\n",
       "    </tr>\n",
       "    <tr>\n",
       "      <th>19</th>\n",
       "      <td>Elec_FuseF</td>\n",
       "      <td>-825.088306</td>\n",
       "    </tr>\n",
       "    <tr>\n",
       "      <th>20</th>\n",
       "      <td>Elec_FuseP</td>\n",
       "      <td>-960.676944</td>\n",
       "    </tr>\n",
       "    <tr>\n",
       "      <th>50</th>\n",
       "      <td>RoofMatl_WdShake</td>\n",
       "      <td>-1001.816076</td>\n",
       "    </tr>\n",
       "    <tr>\n",
       "      <th>48</th>\n",
       "      <td>RoofMatl_Roll</td>\n",
       "      <td>-1082.953162</td>\n",
       "    </tr>\n",
       "    <tr>\n",
       "      <th>58</th>\n",
       "      <td>Exter1_HdBoard</td>\n",
       "      <td>-1131.712226</td>\n",
       "    </tr>\n",
       "    <tr>\n",
       "      <th>39</th>\n",
       "      <td>RoofStyle_Gable</td>\n",
       "      <td>-1233.832835</td>\n",
       "    </tr>\n",
       "    <tr>\n",
       "      <th>18</th>\n",
       "      <td>Elec_FuseA</td>\n",
       "      <td>-1280.107028</td>\n",
       "    </tr>\n",
       "    <tr>\n",
       "      <th>25</th>\n",
       "      <td>Func_Maj2</td>\n",
       "      <td>-1359.006634</td>\n",
       "    </tr>\n",
       "    <tr>\n",
       "      <th>28</th>\n",
       "      <td>Func_Mod</td>\n",
       "      <td>-1378.948587</td>\n",
       "    </tr>\n",
       "    <tr>\n",
       "      <th>34</th>\n",
       "      <td>Fence</td>\n",
       "      <td>-1388.770482</td>\n",
       "    </tr>\n",
       "    <tr>\n",
       "      <th>64</th>\n",
       "      <td>Exter1_VinylSd</td>\n",
       "      <td>-1521.335297</td>\n",
       "    </tr>\n",
       "    <tr>\n",
       "      <th>1</th>\n",
       "      <td>GarageFinish</td>\n",
       "      <td>-1634.999301</td>\n",
       "    </tr>\n",
       "    <tr>\n",
       "      <th>24</th>\n",
       "      <td>Func_Maj1</td>\n",
       "      <td>-1896.217460</td>\n",
       "    </tr>\n",
       "    <tr>\n",
       "      <th>61</th>\n",
       "      <td>Exter1_Plywood</td>\n",
       "      <td>-2110.455263</td>\n",
       "    </tr>\n",
       "    <tr>\n",
       "      <th>29</th>\n",
       "      <td>Func_Sev</td>\n",
       "      <td>-2153.714606</td>\n",
       "    </tr>\n",
       "    <tr>\n",
       "      <th>8</th>\n",
       "      <td>BsmtCond</td>\n",
       "      <td>-2817.667490</td>\n",
       "    </tr>\n",
       "    <tr>\n",
       "      <th>14</th>\n",
       "      <td>Heatg_OthW</td>\n",
       "      <td>-2842.877150</td>\n",
       "    </tr>\n",
       "    <tr>\n",
       "      <th>36</th>\n",
       "      <td>FullBath</td>\n",
       "      <td>-2898.385016</td>\n",
       "    </tr>\n",
       "    <tr>\n",
       "      <th>3</th>\n",
       "      <td>GarageCond</td>\n",
       "      <td>-3324.952971</td>\n",
       "    </tr>\n",
       "    <tr>\n",
       "      <th>22</th>\n",
       "      <td>Elec_SBrkr</td>\n",
       "      <td>-3611.232470</td>\n",
       "    </tr>\n",
       "    <tr>\n",
       "      <th>44</th>\n",
       "      <td>RoofMatl_ClyTile</td>\n",
       "      <td>-16038.120466</td>\n",
       "    </tr>\n",
       "  </tbody>\n",
       "</table>\n",
       "<p>67 rows × 2 columns</p>\n",
       "</div>"
      ],
      "text/plain": [
       "             Features         Coefs\n",
       "51   RoofMatl_WdShngl   5206.688935\n",
       "4              PoolQC   4460.499387\n",
       "7            BsmtQual   4195.001478\n",
       "55     Exter1_BrkFace   3378.397021\n",
       "5           ExterQual   3024.427026\n",
       "23        KitchenQual   2942.431668\n",
       "9        BsmtFinType1   2159.705263\n",
       "38     RoofStyle_Flat   1898.323405\n",
       "52     Exter1_AsbShng   1809.661333\n",
       "35       TotRmsAbvGrd   1784.852815\n",
       "30           Func_Typ   1592.146837\n",
       "60     Exter1_MetalSd   1532.027822\n",
       "10        Heatg_Floor   1262.638369\n",
       "16          HeatingQC   1234.753552\n",
       "15         Heatg_Wall   1160.015145\n",
       "46   RoofMatl_Membran   1155.599705\n",
       "45   RoofMatl_CompShg   1119.807386\n",
       "56      Exter1_CBlock    882.784712\n",
       "13         Heatg_Grav    852.849778\n",
       "41      RoofStyle_Hip    771.341443\n",
       "57     Exter1_CemntBd    623.962103\n",
       "32         Paved_part    582.668832\n",
       "62       Exter1_Stone    577.169558\n",
       "42  RoofStyle_Mansard    575.622491\n",
       "65     Exter1_Wd Sdng    505.902695\n",
       "27          Func_Min2    481.153735\n",
       "17         CentralAir    331.601865\n",
       "47     RoofMatl_Metal    292.253553\n",
       "6           ExterCond    291.635074\n",
       "11         Heatg_GasA     70.248095\n",
       "..                ...           ...\n",
       "59     Exter1_ImStucc   -133.340080\n",
       "54     Exter1_BrkComm   -158.561190\n",
       "37           HalfBath   -164.499768\n",
       "49   RoofMatl_Tar&Grv   -229.552054\n",
       "31     Paved_DirtGrav   -412.085751\n",
       "12         Heatg_GasW   -482.289708\n",
       "43     RoofStyle_Shed   -588.148611\n",
       "21           Elec_Mix   -627.446581\n",
       "0         FireplaceQu   -650.665495\n",
       "19         Elec_FuseF   -825.088306\n",
       "20         Elec_FuseP   -960.676944\n",
       "50   RoofMatl_WdShake  -1001.816076\n",
       "48      RoofMatl_Roll  -1082.953162\n",
       "58     Exter1_HdBoard  -1131.712226\n",
       "39    RoofStyle_Gable  -1233.832835\n",
       "18         Elec_FuseA  -1280.107028\n",
       "25          Func_Maj2  -1359.006634\n",
       "28           Func_Mod  -1378.948587\n",
       "34              Fence  -1388.770482\n",
       "64     Exter1_VinylSd  -1521.335297\n",
       "1        GarageFinish  -1634.999301\n",
       "24          Func_Maj1  -1896.217460\n",
       "61     Exter1_Plywood  -2110.455263\n",
       "29           Func_Sev  -2153.714606\n",
       "8            BsmtCond  -2817.667490\n",
       "14         Heatg_OthW  -2842.877150\n",
       "36           FullBath  -2898.385016\n",
       "3          GarageCond  -3324.952971\n",
       "22         Elec_SBrkr  -3611.232470\n",
       "44   RoofMatl_ClyTile -16038.120466\n",
       "\n",
       "[67 rows x 2 columns]"
      ]
     },
     "execution_count": 425,
     "metadata": {},
     "output_type": "execute_result"
    }
   ],
   "source": [
    "featcoefs = featcoefs[['Features', 'Coefs']]\n",
    "featcoefs.sort_values('Coefs', ascending=False)"
   ]
  },
  {
   "cell_type": "markdown",
   "metadata": {},
   "source": [
    "# How to use Model"
   ]
  },
  {
   "cell_type": "markdown",
   "metadata": {},
   "source": [
    "1. When purchasing a house, first check to see if any renovatable features are available.\n",
    "2. Compare these features to the Features/Coefs table above to see rank of impact on SalePrice according to the model\n",
    "3. Items higher on the list will generally provide a higher return on investment, whereas lower ones provide lower returns for the renovated feature\n",
    "4. If the renovated item is a second garage, a tennis court or a shed, observe the value found above, and ensure not to go over the value as it's likely that you will not receive a greater return on investment\n",
    "5. As an extremely general rule of thumb, limit expenditure on renovations by item to $3500, as for renovations categorised as 'other' (vague), seem to be valued as such"
   ]
  },
  {
   "cell_type": "markdown",
   "metadata": {},
   "source": [
    "# Model Evaluation\n",
    "Overall, the model of fixed characteristics explains 82.94% of the results, and the renovated characteristic model explains 9% of the residuals of the first model.  This is a fairly accurate model, explaining approximately 85% of saleprice using both fixed and renovatable features.\n"
   ]
  },
  {
   "cell_type": "markdown",
   "metadata": {},
   "source": [
    "<img src=\"http://imgur.com/GCAf1UX.png\" style=\"float: left; margin: 25px 15px 0px 0px; height: 25px\">\n",
    "\n",
    "## 3. What property characteristics predict an \"abnormal\" sale?\n",
    "\n",
    "---\n",
    "\n",
    "The `SaleCondition` feature indicates the circumstances of the house sale. From the data file, we can see that the possibilities are:\n",
    "\n",
    "       Normal\tNormal Sale\n",
    "       Abnorml\tAbnormal Sale -  trade, foreclosure, short sale\n",
    "       AdjLand\tAdjoining Land Purchase\n",
    "       Alloca\tAllocation - two linked properties with separate deeds, typically condo with a garage unit\t\n",
    "       Family\tSale between family members\n",
    "       Partial\tHome was not completed when last assessed (associated with New Homes)\n",
    "       \n",
    "One of the executives at your company has an \"in\" with higher-ups at the major regional bank. His friends at the bank have made him a proposal: if he can reliably indicate what features, if any, predict \"abnormal\" sales (foreclosures, short sales, etc.), then in return the bank will give him first dibs on the pre-auction purchase of those properties (at a dirt-cheap price).\n",
    "\n",
    "He has tasked you with determining (and adequately validating) which features of a property predict this type of sale. \n",
    "\n",
    "---\n",
    "\n",
    "**Your task:**\n",
    "1. Determine which features predict the `Abnorml` category in the `SaleCondition` feature.\n",
    "- Justify your results.\n",
    "\n",
    "This is a challenging task that tests your ability to perform classification analysis in the face of severe class imbalance. You may find that simply running a classifier on the full dataset to predict the category ends up useless: when there is bad class imbalance classifiers often tend to simply guess the majority class.\n",
    "\n",
    "It is up to you to determine how you will tackle this problem. I recommend doing some research to find out how others have dealt with the problem in the past. Make sure to justify your solution. Don't worry about it being \"the best\" solution, but be rigorous.\n",
    "\n",
    "Be sure to indicate which features are predictive (if any) and whether they are positive or negative predictors of abnormal sales."
   ]
  },
  {
   "cell_type": "code",
   "execution_count": null,
   "metadata": {
    "collapsed": true
   },
   "outputs": [],
   "source": [
    "# A:"
   ]
  }
 ],
 "metadata": {
  "anaconda-cloud": {},
  "kernelspec": {
   "display_name": "Python [default]",
   "language": "python",
   "name": "python2"
  },
  "language_info": {
   "codemirror_mode": {
    "name": "ipython",
    "version": 2
   },
   "file_extension": ".py",
   "mimetype": "text/x-python",
   "name": "python",
   "nbconvert_exporter": "python",
   "pygments_lexer": "ipython2",
   "version": "2.7.13"
  },
  "toc": {
   "nav_menu": {},
   "number_sections": true,
   "sideBar": true,
   "skip_h1_title": false,
   "toc_cell": false,
   "toc_position": {},
   "toc_section_display": "block",
   "toc_window_display": true
  }
 },
 "nbformat": 4,
 "nbformat_minor": 2
}
